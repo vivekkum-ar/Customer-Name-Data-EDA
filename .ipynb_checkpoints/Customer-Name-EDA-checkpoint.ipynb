{
 "cells": [
  {
   "cell_type": "code",
   "execution_count": 2,
   "id": "eb8af51a",
   "metadata": {},
   "outputs": [],
   "source": [
    "import matplotlib.pyplot as plt \n",
    "import pandas as pd\n",
    "import seaborn as sns\n",
    "import numpy as np\n",
    "%matplotlib inline\n",
    "import warnings\n",
    "warnings.filterwarnings(\"ignore\")\n",
    "import re"
   ]
  },
  {
   "cell_type": "markdown",
   "id": "0ce3681f",
   "metadata": {},
   "source": [
    "### Reading the data"
   ]
  },
  {
   "cell_type": "code",
   "execution_count": 3,
   "id": "4f7025f2",
   "metadata": {},
   "outputs": [
    {
     "data": {
      "text/html": [
       "<div>\n",
       "<style scoped>\n",
       "    .dataframe tbody tr th:only-of-type {\n",
       "        vertical-align: middle;\n",
       "    }\n",
       "\n",
       "    .dataframe tbody tr th {\n",
       "        vertical-align: top;\n",
       "    }\n",
       "\n",
       "    .dataframe thead th {\n",
       "        text-align: right;\n",
       "    }\n",
       "</style>\n",
       "<table border=\"1\" class=\"dataframe\">\n",
       "  <thead>\n",
       "    <tr style=\"text-align: right;\">\n",
       "      <th></th>\n",
       "      <th>ID</th>\n",
       "      <th>Company Names</th>\n",
       "    </tr>\n",
       "  </thead>\n",
       "  <tbody>\n",
       "    <tr>\n",
       "      <th>0</th>\n",
       "      <td>4</td>\n",
       "      <td>Devara Ramadasu</td>\n",
       "    </tr>\n",
       "    <tr>\n",
       "      <th>1</th>\n",
       "      <td>7</td>\n",
       "      <td>Shri Kunuturu Nagendra</td>\n",
       "    </tr>\n",
       "    <tr>\n",
       "      <th>2</th>\n",
       "      <td>16</td>\n",
       "      <td>Baapanapalli Kullayamma</td>\n",
       "    </tr>\n",
       "    <tr>\n",
       "      <th>3</th>\n",
       "      <td>19</td>\n",
       "      <td>Thummuluru Sowjanya</td>\n",
       "    </tr>\n",
       "    <tr>\n",
       "      <th>4</th>\n",
       "      <td>21</td>\n",
       "      <td>Koppala Supriya</td>\n",
       "    </tr>\n",
       "  </tbody>\n",
       "</table>\n",
       "</div>"
      ],
      "text/plain": [
       "   ID            Company Names\n",
       "0   4          Devara Ramadasu\n",
       "1   7   Shri Kunuturu Nagendra\n",
       "2  16  Baapanapalli Kullayamma\n",
       "3  19      Thummuluru Sowjanya\n",
       "4  21          Koppala Supriya"
      ]
     },
     "execution_count": 3,
     "metadata": {},
     "output_type": "execute_result"
    }
   ],
   "source": [
    "df = pd.read_excel(\"C:/Users/Vivek Kumar/Documents/Downloads/lot 6 cname-r.xlsx\")\n",
    "df.head()"
   ]
  },
  {
   "cell_type": "markdown",
   "id": "2cc02773",
   "metadata": {},
   "source": [
    "### No. of records in each column"
   ]
  },
  {
   "cell_type": "code",
   "execution_count": 4,
   "id": "f82ed084",
   "metadata": {},
   "outputs": [
    {
     "data": {
      "text/plain": [
       "ID               140790\n",
       "Company Names    140787\n",
       "dtype: int64"
      ]
     },
     "execution_count": 4,
     "metadata": {},
     "output_type": "execute_result"
    }
   ],
   "source": [
    "df.count()"
   ]
  },
  {
   "cell_type": "markdown",
   "id": "a9b0e5c2",
   "metadata": {},
   "source": [
    "### Dtype(data-type) of each column"
   ]
  },
  {
   "cell_type": "code",
   "execution_count": 5,
   "id": "8a5e14b5",
   "metadata": {
    "scrolled": true
   },
   "outputs": [
    {
     "name": "stdout",
     "output_type": "stream",
     "text": [
      "<class 'pandas.core.frame.DataFrame'>\n",
      "RangeIndex: 140790 entries, 0 to 140789\n",
      "Data columns (total 2 columns):\n",
      " #   Column         Non-Null Count   Dtype \n",
      "---  ------         --------------   ----- \n",
      " 0   ID             140790 non-null  int64 \n",
      " 1   Company Names  140787 non-null  object\n",
      "dtypes: int64(1), object(1)\n",
      "memory usage: 2.1+ MB\n"
     ]
    }
   ],
   "source": [
    "df.info()"
   ]
  },
  {
   "cell_type": "markdown",
   "id": "cb08e0c3",
   "metadata": {},
   "source": [
    "### Need to standardise data to the obvious(str type)"
   ]
  },
  {
   "cell_type": "code",
   "execution_count": 6,
   "id": "78497170",
   "metadata": {},
   "outputs": [],
   "source": [
    "df['Company Names'] = df['Company Names'].astype(str)"
   ]
  },
  {
   "cell_type": "code",
   "execution_count": 7,
   "id": "c2b87523",
   "metadata": {
    "scrolled": false
   },
   "outputs": [
    {
     "name": "stdout",
     "output_type": "stream",
     "text": [
      "<class 'pandas.core.frame.DataFrame'>\n",
      "RangeIndex: 140790 entries, 0 to 140789\n",
      "Data columns (total 2 columns):\n",
      " #   Column         Non-Null Count   Dtype \n",
      "---  ------         --------------   ----- \n",
      " 0   ID             140790 non-null  int64 \n",
      " 1   Company Names  140790 non-null  object\n",
      "dtypes: int64(1), object(1)\n",
      "memory usage: 2.1+ MB\n"
     ]
    }
   ],
   "source": [
    "df.info()"
   ]
  },
  {
   "cell_type": "markdown",
   "id": "9ce440ce",
   "metadata": {},
   "source": [
    "### UDF that counts digits in the string "
   ]
  },
  {
   "cell_type": "code",
   "execution_count": 8,
   "id": "464b24b3",
   "metadata": {},
   "outputs": [],
   "source": [
    "def countDigits(company_names):\n",
    "    count = 0\n",
    "    for x in company_names:\n",
    "        if x.isdigit():\n",
    "            count = count + 1\n",
    "    return count"
   ]
  },
  {
   "cell_type": "markdown",
   "id": "1905a20c",
   "metadata": {},
   "source": [
    "### Applying the UDF as per value in \"Company Names\"\n",
    "- Making a new feature as \"Digits present\" alongside the previous\n",
    "- Count of digits was found to be relatively large for wrong values(Can be proved below)"
   ]
  },
  {
   "cell_type": "code",
   "execution_count": 9,
   "id": "444ad871",
   "metadata": {},
   "outputs": [],
   "source": [
    "df[\"Digits present\"] = df[\"Company Names\"].map(countDigits)\n",
    "# df['new_col'] = df[\"Company Names\"].apply(count_digits_in_text)"
   ]
  },
  {
   "cell_type": "markdown",
   "id": "74843558",
   "metadata": {},
   "source": [
    "### No. of records in each column"
   ]
  },
  {
   "cell_type": "code",
   "execution_count": 10,
   "id": "76183ef7",
   "metadata": {},
   "outputs": [
    {
     "data": {
      "text/plain": [
       "ID                140790\n",
       "Company Names     140790\n",
       "Digits present    140790\n",
       "dtype: int64"
      ]
     },
     "execution_count": 10,
     "metadata": {},
     "output_type": "execute_result"
    }
   ],
   "source": [
    "df.count()"
   ]
  },
  {
   "cell_type": "markdown",
   "id": "8e4228b9",
   "metadata": {},
   "source": [
    "### Sorting by \"Digits Present\" in descending order\n",
    "- This sorting clears fact that - \"Count of digits was found to be relatively large for wrong values\""
   ]
  },
  {
   "cell_type": "code",
   "execution_count": 11,
   "id": "ba5e039c",
   "metadata": {},
   "outputs": [
    {
     "data": {
      "text/html": [
       "<div>\n",
       "<style scoped>\n",
       "    .dataframe tbody tr th:only-of-type {\n",
       "        vertical-align: middle;\n",
       "    }\n",
       "\n",
       "    .dataframe tbody tr th {\n",
       "        vertical-align: top;\n",
       "    }\n",
       "\n",
       "    .dataframe thead th {\n",
       "        text-align: right;\n",
       "    }\n",
       "</style>\n",
       "<table border=\"1\" class=\"dataframe\">\n",
       "  <thead>\n",
       "    <tr style=\"text-align: right;\">\n",
       "      <th></th>\n",
       "      <th>ID</th>\n",
       "      <th>Company Names</th>\n",
       "      <th>Digits present</th>\n",
       "    </tr>\n",
       "  </thead>\n",
       "  <tbody>\n",
       "    <tr>\n",
       "      <th>287</th>\n",
       "      <td>1634</td>\n",
       "      <td>Cc Bio Fuels ,Sy No -497/1 And 498/2 ,With 30 ...</td>\n",
       "      <td>16</td>\n",
       "    </tr>\n",
       "    <tr>\n",
       "      <th>18602</th>\n",
       "      <td>280732</td>\n",
       "      <td>123456789101112</td>\n",
       "      <td>15</td>\n",
       "    </tr>\n",
       "    <tr>\n",
       "      <th>17416</th>\n",
       "      <td>270120</td>\n",
       "      <td>851152897702</td>\n",
       "      <td>12</td>\n",
       "    </tr>\n",
       "    <tr>\n",
       "      <th>17421</th>\n",
       "      <td>270150</td>\n",
       "      <td>885560817906</td>\n",
       "      <td>12</td>\n",
       "    </tr>\n",
       "    <tr>\n",
       "      <th>17418</th>\n",
       "      <td>270136</td>\n",
       "      <td>868281346643</td>\n",
       "      <td>12</td>\n",
       "    </tr>\n",
       "  </tbody>\n",
       "</table>\n",
       "</div>"
      ],
      "text/plain": [
       "           ID                                      Company Names  \\\n",
       "287      1634  Cc Bio Fuels ,Sy No -497/1 And 498/2 ,With 30 ...   \n",
       "18602  280732                                    123456789101112   \n",
       "17416  270120                                       851152897702   \n",
       "17421  270150                                       885560817906   \n",
       "17418  270136                                       868281346643   \n",
       "\n",
       "       Digits present  \n",
       "287                16  \n",
       "18602              15  \n",
       "17416              12  \n",
       "17421              12  \n",
       "17418              12  "
      ]
     },
     "execution_count": 11,
     "metadata": {},
     "output_type": "execute_result"
    }
   ],
   "source": [
    "df.sort_values(by=[\"Digits present\"],ascending=False).head()"
   ]
  },
  {
   "cell_type": "markdown",
   "id": "103572e0",
   "metadata": {},
   "source": [
    "### Let's look at median of \"Digits Present\""
   ]
  },
  {
   "cell_type": "code",
   "execution_count": 12,
   "id": "a50cd49a",
   "metadata": {
    "scrolled": true
   },
   "outputs": [
    {
     "data": {
      "text/plain": [
       "count    140790.000000\n",
       "mean          0.012522\n",
       "std           0.223344\n",
       "min           0.000000\n",
       "25%           0.000000\n",
       "50%           0.000000\n",
       "75%           0.000000\n",
       "max          16.000000\n",
       "Name: Digits present, dtype: float64"
      ]
     },
     "execution_count": 12,
     "metadata": {},
     "output_type": "execute_result"
    }
   ],
   "source": [
    "df[\"Digits present\"].describe()"
   ]
  },
  {
   "cell_type": "code",
   "execution_count": 13,
   "id": "7b52935f",
   "metadata": {},
   "outputs": [
    {
     "data": {
      "text/plain": [
       "0.0"
      ]
     },
     "execution_count": 13,
     "metadata": {},
     "output_type": "execute_result"
    }
   ],
   "source": [
    "df[\"Digits present\"].median()"
   ]
  },
  {
   "cell_type": "markdown",
   "id": "d33a1d96",
   "metadata": {},
   "source": [
    "#### Above value dictates, most of the values in Company Names have no numbers in their names"
   ]
  },
  {
   "cell_type": "code",
   "execution_count": 14,
   "id": "21630a23",
   "metadata": {
    "scrolled": true
   },
   "outputs": [
    {
     "name": "stdout",
     "output_type": "stream",
     "text": [
      "<class 'pandas.core.frame.DataFrame'>\n",
      "RangeIndex: 140790 entries, 0 to 140789\n",
      "Data columns (total 3 columns):\n",
      " #   Column          Non-Null Count   Dtype \n",
      "---  ------          --------------   ----- \n",
      " 0   ID              140790 non-null  int64 \n",
      " 1   Company Names   140790 non-null  object\n",
      " 2   Digits present  140790 non-null  int64 \n",
      "dtypes: int64(2), object(1)\n",
      "memory usage: 3.2+ MB\n"
     ]
    }
   ],
   "source": [
    "df.info()"
   ]
  },
  {
   "cell_type": "markdown",
   "id": "a46774cf",
   "metadata": {},
   "source": [
    "### No. of records having    \"null/nan/NaN/empty\"    values"
   ]
  },
  {
   "cell_type": "code",
   "execution_count": 15,
   "id": "7a0a3135",
   "metadata": {
    "scrolled": true
   },
   "outputs": [
    {
     "data": {
      "text/html": [
       "<div>\n",
       "<style scoped>\n",
       "    .dataframe tbody tr th:only-of-type {\n",
       "        vertical-align: middle;\n",
       "    }\n",
       "\n",
       "    .dataframe tbody tr th {\n",
       "        vertical-align: top;\n",
       "    }\n",
       "\n",
       "    .dataframe thead th {\n",
       "        text-align: right;\n",
       "    }\n",
       "</style>\n",
       "<table border=\"1\" class=\"dataframe\">\n",
       "  <thead>\n",
       "    <tr style=\"text-align: right;\">\n",
       "      <th></th>\n",
       "      <th>ID</th>\n",
       "      <th>Company Names</th>\n",
       "      <th>Digits present</th>\n",
       "    </tr>\n",
       "  </thead>\n",
       "  <tbody>\n",
       "    <tr>\n",
       "      <th>22972</th>\n",
       "      <td>340630</td>\n",
       "      <td>nan</td>\n",
       "      <td>0</td>\n",
       "    </tr>\n",
       "    <tr>\n",
       "      <th>103646</th>\n",
       "      <td>265381</td>\n",
       "      <td>N/a</td>\n",
       "      <td>0</td>\n",
       "    </tr>\n",
       "    <tr>\n",
       "      <th>130242</th>\n",
       "      <td>340028</td>\n",
       "      <td>nan</td>\n",
       "      <td>0</td>\n",
       "    </tr>\n",
       "    <tr>\n",
       "      <th>135832</th>\n",
       "      <td>354200</td>\n",
       "      <td>N/a</td>\n",
       "      <td>0</td>\n",
       "    </tr>\n",
       "    <tr>\n",
       "      <th>139632</th>\n",
       "      <td>362734</td>\n",
       "      <td>nan</td>\n",
       "      <td>0</td>\n",
       "    </tr>\n",
       "  </tbody>\n",
       "</table>\n",
       "</div>"
      ],
      "text/plain": [
       "            ID Company Names  Digits present\n",
       "22972   340630           nan               0\n",
       "103646  265381           N/a               0\n",
       "130242  340028           nan               0\n",
       "135832  354200           N/a               0\n",
       "139632  362734           nan               0"
      ]
     },
     "execution_count": 15,
     "metadata": {},
     "output_type": "execute_result"
    }
   ],
   "source": [
    "df.loc[(df['Company Names'].isna() == True) | (df['Company Names'].isin(['N/a','NaN','NA','N/A','n/A','nan',\"\",\" \"]))]"
   ]
  },
  {
   "cell_type": "markdown",
   "id": "2ee76164",
   "metadata": {},
   "source": [
    "### Distribution of values in \"Digits present\" column"
   ]
  },
  {
   "cell_type": "code",
   "execution_count": 16,
   "id": "bbf1f3c0",
   "metadata": {},
   "outputs": [
    {
     "data": {
      "text/html": [
       "<div>\n",
       "<style scoped>\n",
       "    .dataframe tbody tr th:only-of-type {\n",
       "        vertical-align: middle;\n",
       "    }\n",
       "\n",
       "    .dataframe tbody tr th {\n",
       "        vertical-align: top;\n",
       "    }\n",
       "\n",
       "    .dataframe thead th {\n",
       "        text-align: right;\n",
       "    }\n",
       "</style>\n",
       "<table border=\"1\" class=\"dataframe\">\n",
       "  <thead>\n",
       "    <tr style=\"text-align: right;\">\n",
       "      <th></th>\n",
       "      <th>Digits present</th>\n",
       "    </tr>\n",
       "  </thead>\n",
       "  <tbody>\n",
       "    <tr>\n",
       "      <th>0</th>\n",
       "      <td>139949</td>\n",
       "    </tr>\n",
       "    <tr>\n",
       "      <th>1</th>\n",
       "      <td>441</td>\n",
       "    </tr>\n",
       "    <tr>\n",
       "      <th>2</th>\n",
       "      <td>234</td>\n",
       "    </tr>\n",
       "    <tr>\n",
       "      <th>4</th>\n",
       "      <td>61</td>\n",
       "    </tr>\n",
       "    <tr>\n",
       "      <th>3</th>\n",
       "      <td>48</td>\n",
       "    </tr>\n",
       "    <tr>\n",
       "      <th>6</th>\n",
       "      <td>14</td>\n",
       "    </tr>\n",
       "    <tr>\n",
       "      <th>5</th>\n",
       "      <td>10</td>\n",
       "    </tr>\n",
       "    <tr>\n",
       "      <th>10</th>\n",
       "      <td>7</td>\n",
       "    </tr>\n",
       "    <tr>\n",
       "      <th>12</th>\n",
       "      <td>7</td>\n",
       "    </tr>\n",
       "    <tr>\n",
       "      <th>7</th>\n",
       "      <td>6</td>\n",
       "    </tr>\n",
       "    <tr>\n",
       "      <th>11</th>\n",
       "      <td>5</td>\n",
       "    </tr>\n",
       "    <tr>\n",
       "      <th>8</th>\n",
       "      <td>4</td>\n",
       "    </tr>\n",
       "    <tr>\n",
       "      <th>9</th>\n",
       "      <td>2</td>\n",
       "    </tr>\n",
       "    <tr>\n",
       "      <th>16</th>\n",
       "      <td>1</td>\n",
       "    </tr>\n",
       "    <tr>\n",
       "      <th>15</th>\n",
       "      <td>1</td>\n",
       "    </tr>\n",
       "  </tbody>\n",
       "</table>\n",
       "</div>"
      ],
      "text/plain": [
       "    Digits present\n",
       "0           139949\n",
       "1              441\n",
       "2              234\n",
       "4               61\n",
       "3               48\n",
       "6               14\n",
       "5               10\n",
       "10               7\n",
       "12               7\n",
       "7                6\n",
       "11               5\n",
       "8                4\n",
       "9                2\n",
       "16               1\n",
       "15               1"
      ]
     },
     "execution_count": 16,
     "metadata": {},
     "output_type": "execute_result"
    }
   ],
   "source": [
    "pd.DataFrame(df[\"Digits present\"].value_counts())"
   ]
  },
  {
   "cell_type": "markdown",
   "id": "6a4db99c",
   "metadata": {},
   "source": [
    "### % of names that have no numbers in between them"
   ]
  },
  {
   "cell_type": "code",
   "execution_count": 17,
   "id": "31afaea5",
   "metadata": {},
   "outputs": [
    {
     "name": "stdout",
     "output_type": "stream",
     "text": [
      "Percent of company names/ individual names having one or more than 1 number in between: 99.40%\n"
     ]
    }
   ],
   "source": [
    "print(\"Percent of company names/ individual names having one or more than 1 number in between: \" \n",
    "      + \"{:.2f}\".format((139949/140790)*100) + \"%\") #the figure of 139949 has been taken from the Distribution above"
   ]
  },
  {
   "cell_type": "markdown",
   "id": "faf978b2",
   "metadata": {},
   "source": [
    "### Plots that show - \"Most of the company names have 0-2 number of digits in their name\""
   ]
  },
  {
   "cell_type": "code",
   "execution_count": 18,
   "id": "0dee7614",
   "metadata": {
    "scrolled": true
   },
   "outputs": [
    {
     "data": {
      "text/plain": [
       "<AxesSubplot:>"
      ]
     },
     "execution_count": 18,
     "metadata": {},
     "output_type": "execute_result"
    },
    {
     "data": {
      "image/png": "[encoded data removed]",
      "text/plain": [
       "<Figure size 1080x360 with 1 Axes>"
      ]
     },
     "metadata": {
      "needs_background": "light"
     },
     "output_type": "display_data"
    }
   ],
   "source": [
    "plt.figure(figsize=[15,5])\n",
    "y=df[\"Digits present\"].value_counts().sort_index(ascending=True).values.tolist()\n",
    "x=df[\"Digits present\"].value_counts().sort_index(ascending=True).index.tolist()\n",
    "sns.lineplot(x=x,y=y)"
   ]
  },
  {
   "cell_type": "code",
   "execution_count": 19,
   "id": "24beee09",
   "metadata": {
    "scrolled": true
   },
   "outputs": [
    {
     "data": {
      "text/plain": [
       "<AxesSubplot:>"
      ]
     },
     "execution_count": 19,
     "metadata": {},
     "output_type": "execute_result"
    },
    {
     "data": {
      "image/png": "[encoded data removed]",
      "text/plain": [
       "<Figure size 1080x360 with 1 Axes>"
      ]
     },
     "metadata": {
      "needs_background": "light"
     },
     "output_type": "display_data"
    }
   ],
   "source": [
    "plt.figure(figsize=[15,5])\n",
    "sns.barplot(x=x,y=y)"
   ]
  },
  {
   "cell_type": "markdown",
   "id": "56747fd1",
   "metadata": {},
   "source": [
    "### Checking for \"@\" with regexp"
   ]
  },
  {
   "cell_type": "code",
   "execution_count": 20,
   "id": "2bd7102b",
   "metadata": {},
   "outputs": [],
   "source": [
    "regex = r'@'   #Check if it contains any @\n",
    "def checkIfEmail(email):\n",
    "    if(re.search(regex,email)):\n",
    "        return(\"yes\")   \n",
    "    else:\n",
    "        return(\"no\")"
   ]
  },
  {
   "cell_type": "code",
   "execution_count": 21,
   "id": "134581aa",
   "metadata": {
    "scrolled": true
   },
   "outputs": [],
   "source": [
    "df[\"Is Email\"] = df[\"Company Names\"].map(checkIfEmail)"
   ]
  },
  {
   "cell_type": "code",
   "execution_count": 22,
   "id": "de0e47f7",
   "metadata": {},
   "outputs": [
    {
     "data": {
      "text/html": [
       "<div>\n",
       "<style scoped>\n",
       "    .dataframe tbody tr th:only-of-type {\n",
       "        vertical-align: middle;\n",
       "    }\n",
       "\n",
       "    .dataframe tbody tr th {\n",
       "        vertical-align: top;\n",
       "    }\n",
       "\n",
       "    .dataframe thead th {\n",
       "        text-align: right;\n",
       "    }\n",
       "</style>\n",
       "<table border=\"1\" class=\"dataframe\">\n",
       "  <thead>\n",
       "    <tr style=\"text-align: right;\">\n",
       "      <th></th>\n",
       "      <th>ID</th>\n",
       "      <th>Company Names</th>\n",
       "      <th>Digits present</th>\n",
       "      <th>Is Email</th>\n",
       "    </tr>\n",
       "  </thead>\n",
       "  <tbody>\n",
       "    <tr>\n",
       "      <th>699</th>\n",
       "      <td>3855</td>\n",
       "      <td>Tammineni1991@Gmail.Com</td>\n",
       "      <td>4</td>\n",
       "      <td>yes</td>\n",
       "    </tr>\n",
       "    <tr>\n",
       "      <th>2677</th>\n",
       "      <td>52523</td>\n",
       "      <td>Nirmalyadav0511@Gmail.Com</td>\n",
       "      <td>4</td>\n",
       "      <td>yes</td>\n",
       "    </tr>\n",
       "    <tr>\n",
       "      <th>5693</th>\n",
       "      <td>92400</td>\n",
       "      <td>Someshmurmu@Gmail.Com</td>\n",
       "      <td>0</td>\n",
       "      <td>yes</td>\n",
       "    </tr>\n",
       "    <tr>\n",
       "      <th>6099</th>\n",
       "      <td>94261</td>\n",
       "      <td>Mr9177745@Gmail.Com</td>\n",
       "      <td>7</td>\n",
       "      <td>yes</td>\n",
       "    </tr>\n",
       "    <tr>\n",
       "      <th>8224</th>\n",
       "      <td>128736</td>\n",
       "      <td>@Gmail.Com</td>\n",
       "      <td>0</td>\n",
       "      <td>yes</td>\n",
       "    </tr>\n",
       "    <tr>\n",
       "      <th>...</th>\n",
       "      <td>...</td>\n",
       "      <td>...</td>\n",
       "      <td>...</td>\n",
       "      <td>...</td>\n",
       "    </tr>\n",
       "    <tr>\n",
       "      <th>107620</th>\n",
       "      <td>275210</td>\n",
       "      <td>Shri Ram General @ Online Shope</td>\n",
       "      <td>0</td>\n",
       "      <td>yes</td>\n",
       "    </tr>\n",
       "    <tr>\n",
       "      <th>107900</th>\n",
       "      <td>276028</td>\n",
       "      <td>Shriram General@Gaements Shop</td>\n",
       "      <td>0</td>\n",
       "      <td>yes</td>\n",
       "    </tr>\n",
       "    <tr>\n",
       "      <th>108032</th>\n",
       "      <td>276487</td>\n",
       "      <td>Ajaydhall496@Gmail.Com</td>\n",
       "      <td>3</td>\n",
       "      <td>yes</td>\n",
       "    </tr>\n",
       "    <tr>\n",
       "      <th>123262</th>\n",
       "      <td>316658</td>\n",
       "      <td>Ram Surat 3492@Gmail.Com</td>\n",
       "      <td>4</td>\n",
       "      <td>yes</td>\n",
       "    </tr>\n",
       "    <tr>\n",
       "      <th>129077</th>\n",
       "      <td>336495</td>\n",
       "      <td>@Kohli Classes</td>\n",
       "      <td>0</td>\n",
       "      <td>yes</td>\n",
       "    </tr>\n",
       "  </tbody>\n",
       "</table>\n",
       "<p>61 rows × 4 columns</p>\n",
       "</div>"
      ],
      "text/plain": [
       "            ID                    Company Names  Digits present Is Email\n",
       "699       3855          Tammineni1991@Gmail.Com               4      yes\n",
       "2677     52523        Nirmalyadav0511@Gmail.Com               4      yes\n",
       "5693     92400            Someshmurmu@Gmail.Com               0      yes\n",
       "6099     94261              Mr9177745@Gmail.Com               7      yes\n",
       "8224    128736                       @Gmail.Com               0      yes\n",
       "...        ...                              ...             ...      ...\n",
       "107620  275210  Shri Ram General @ Online Shope               0      yes\n",
       "107900  276028    Shriram General@Gaements Shop               0      yes\n",
       "108032  276487           Ajaydhall496@Gmail.Com               3      yes\n",
       "123262  316658         Ram Surat 3492@Gmail.Com               4      yes\n",
       "129077  336495                   @Kohli Classes               0      yes\n",
       "\n",
       "[61 rows x 4 columns]"
      ]
     },
     "execution_count": 22,
     "metadata": {},
     "output_type": "execute_result"
    }
   ],
   "source": [
    "df[df[\"Is Email\"] == \"yes\"]"
   ]
  },
  {
   "cell_type": "markdown",
   "id": "105b29e0",
   "metadata": {},
   "source": [
    " - We have confirmed there are emails in the above dataset.\n",
    " - Emails are not a value for \"Company Names\" column hence they should be discarded.\n",
    " - <font color=\"red\"><b>CAUTION:</font> we see that the values Shriram General@Garments, Shriram General@Gaements Shop are good values.\n",
    " - <font color=\"green\"><b>SOLUTION:</font> we will construct a more strict regexp for selecting emails"
   ]
  },
  {
   "cell_type": "markdown",
   "id": "f2a46195",
   "metadata": {},
   "source": [
    "### Strictly checking for emails with regexp"
   ]
  },
  {
   "cell_type": "code",
   "execution_count": 23,
   "id": "9f2cb1c7",
   "metadata": {},
   "outputs": [],
   "source": [
    "regex = r'\\b[A-Za-z0-9._%+-]+@[A-Za-z0-9.-]+\\.[A-Z|a-z]{2,}\\b'   #Copied regex pattern email from gitHub\n",
    "def checkIfEmail(email):\n",
    "    if(re.search(regex,email)):\n",
    "        return(\"yes\")   \n",
    "    else:\n",
    "        return(\"no\")"
   ]
  },
  {
   "cell_type": "code",
   "execution_count": 24,
   "id": "5e9e5a7c",
   "metadata": {
    "scrolled": true
   },
   "outputs": [],
   "source": [
    "df[\"Is Email\"] = df[\"Company Names\"].map(checkIfEmail)"
   ]
  },
  {
   "cell_type": "code",
   "execution_count": 25,
   "id": "5d12f8fc",
   "metadata": {
    "scrolled": false
   },
   "outputs": [
    {
     "data": {
      "text/html": [
       "<div>\n",
       "<style scoped>\n",
       "    .dataframe tbody tr th:only-of-type {\n",
       "        vertical-align: middle;\n",
       "    }\n",
       "\n",
       "    .dataframe tbody tr th {\n",
       "        vertical-align: top;\n",
       "    }\n",
       "\n",
       "    .dataframe thead th {\n",
       "        text-align: right;\n",
       "    }\n",
       "</style>\n",
       "<table border=\"1\" class=\"dataframe\">\n",
       "  <thead>\n",
       "    <tr style=\"text-align: right;\">\n",
       "      <th></th>\n",
       "      <th>ID</th>\n",
       "      <th>Company Names</th>\n",
       "      <th>Digits present</th>\n",
       "      <th>Is Email</th>\n",
       "    </tr>\n",
       "  </thead>\n",
       "  <tbody>\n",
       "    <tr>\n",
       "      <th>699</th>\n",
       "      <td>3855</td>\n",
       "      <td>Tammineni1991@Gmail.Com</td>\n",
       "      <td>4</td>\n",
       "      <td>yes</td>\n",
       "    </tr>\n",
       "    <tr>\n",
       "      <th>2677</th>\n",
       "      <td>52523</td>\n",
       "      <td>Nirmalyadav0511@Gmail.Com</td>\n",
       "      <td>4</td>\n",
       "      <td>yes</td>\n",
       "    </tr>\n",
       "    <tr>\n",
       "      <th>5693</th>\n",
       "      <td>92400</td>\n",
       "      <td>Someshmurmu@Gmail.Com</td>\n",
       "      <td>0</td>\n",
       "      <td>yes</td>\n",
       "    </tr>\n",
       "    <tr>\n",
       "      <th>6099</th>\n",
       "      <td>94261</td>\n",
       "      <td>Mr9177745@Gmail.Com</td>\n",
       "      <td>7</td>\n",
       "      <td>yes</td>\n",
       "    </tr>\n",
       "    <tr>\n",
       "      <th>9191</th>\n",
       "      <td>135523</td>\n",
       "      <td>Mudalagiri22@Gmail.Com</td>\n",
       "      <td>2</td>\n",
       "      <td>yes</td>\n",
       "    </tr>\n",
       "    <tr>\n",
       "      <th>9192</th>\n",
       "      <td>135524</td>\n",
       "      <td>Basavaraju90@Gmail.Com</td>\n",
       "      <td>2</td>\n",
       "      <td>yes</td>\n",
       "    </tr>\n",
       "    <tr>\n",
       "      <th>9193</th>\n",
       "      <td>135529</td>\n",
       "      <td>Shivamma33@Gmail.Com</td>\n",
       "      <td>2</td>\n",
       "      <td>yes</td>\n",
       "    </tr>\n",
       "    <tr>\n",
       "      <th>9194</th>\n",
       "      <td>135531</td>\n",
       "      <td>Maheshachary09@Gmail.Com</td>\n",
       "      <td>2</td>\n",
       "      <td>yes</td>\n",
       "    </tr>\n",
       "    <tr>\n",
       "      <th>9195</th>\n",
       "      <td>135533</td>\n",
       "      <td>Revanna55@Gmail.Com</td>\n",
       "      <td>2</td>\n",
       "      <td>yes</td>\n",
       "    </tr>\n",
       "    <tr>\n",
       "      <th>9196</th>\n",
       "      <td>135534</td>\n",
       "      <td>Nagesh33@Gmail.Com</td>\n",
       "      <td>2</td>\n",
       "      <td>yes</td>\n",
       "    </tr>\n",
       "    <tr>\n",
       "      <th>9199</th>\n",
       "      <td>135538</td>\n",
       "      <td>Javaraiah22@Gmail.Com</td>\n",
       "      <td>2</td>\n",
       "      <td>yes</td>\n",
       "    </tr>\n",
       "    <tr>\n",
       "      <th>9200</th>\n",
       "      <td>135541</td>\n",
       "      <td>Raghavendra33@Gmail.Com</td>\n",
       "      <td>2</td>\n",
       "      <td>yes</td>\n",
       "    </tr>\n",
       "    <tr>\n",
       "      <th>9201</th>\n",
       "      <td>135544</td>\n",
       "      <td>Sheela57@Gmail.Com</td>\n",
       "      <td>2</td>\n",
       "      <td>yes</td>\n",
       "    </tr>\n",
       "    <tr>\n",
       "      <th>9204</th>\n",
       "      <td>135548</td>\n",
       "      <td>Sanjay12@Gmail.Com</td>\n",
       "      <td>2</td>\n",
       "      <td>yes</td>\n",
       "    </tr>\n",
       "    <tr>\n",
       "      <th>9206</th>\n",
       "      <td>135555</td>\n",
       "      <td>Ravindra11@Gmail.Com</td>\n",
       "      <td>2</td>\n",
       "      <td>yes</td>\n",
       "    </tr>\n",
       "    <tr>\n",
       "      <th>9207</th>\n",
       "      <td>135556</td>\n",
       "      <td>Javaraiah22@Gmail.Com</td>\n",
       "      <td>2</td>\n",
       "      <td>yes</td>\n",
       "    </tr>\n",
       "    <tr>\n",
       "      <th>9209</th>\n",
       "      <td>135560</td>\n",
       "      <td>Jayaramu45@Gmail.Com</td>\n",
       "      <td>2</td>\n",
       "      <td>yes</td>\n",
       "    </tr>\n",
       "    <tr>\n",
       "      <th>9210</th>\n",
       "      <td>135561</td>\n",
       "      <td>Hanumantha22@Gmail.Com</td>\n",
       "      <td>2</td>\n",
       "      <td>yes</td>\n",
       "    </tr>\n",
       "    <tr>\n",
       "      <th>9211</th>\n",
       "      <td>135563</td>\n",
       "      <td>Puttaswamy67@Gmail.Com</td>\n",
       "      <td>2</td>\n",
       "      <td>yes</td>\n",
       "    </tr>\n",
       "    <tr>\n",
       "      <th>9212</th>\n",
       "      <td>135565</td>\n",
       "      <td>Sunilkumar43@Gmail.Com</td>\n",
       "      <td>2</td>\n",
       "      <td>yes</td>\n",
       "    </tr>\n",
       "    <tr>\n",
       "      <th>9221</th>\n",
       "      <td>135594</td>\n",
       "      <td>Madhu44@Gmail.Com</td>\n",
       "      <td>2</td>\n",
       "      <td>yes</td>\n",
       "    </tr>\n",
       "    <tr>\n",
       "      <th>9222</th>\n",
       "      <td>135597</td>\n",
       "      <td>Venkatesh22@Gmail.Com</td>\n",
       "      <td>2</td>\n",
       "      <td>yes</td>\n",
       "    </tr>\n",
       "    <tr>\n",
       "      <th>9224</th>\n",
       "      <td>135599</td>\n",
       "      <td>Dileepkumar44@Gmail.Com</td>\n",
       "      <td>2</td>\n",
       "      <td>yes</td>\n",
       "    </tr>\n",
       "    <tr>\n",
       "      <th>9227</th>\n",
       "      <td>135610</td>\n",
       "      <td>Manjunatha56@Gmail.Com</td>\n",
       "      <td>2</td>\n",
       "      <td>yes</td>\n",
       "    </tr>\n",
       "    <tr>\n",
       "      <th>9241</th>\n",
       "      <td>135667</td>\n",
       "      <td>Sandeep22@Gmail.Com</td>\n",
       "      <td>2</td>\n",
       "      <td>yes</td>\n",
       "    </tr>\n",
       "    <tr>\n",
       "      <th>9244</th>\n",
       "      <td>135679</td>\n",
       "      <td>Shivaratna67@Gmail.Com</td>\n",
       "      <td>2</td>\n",
       "      <td>yes</td>\n",
       "    </tr>\n",
       "    <tr>\n",
       "      <th>9311</th>\n",
       "      <td>136134</td>\n",
       "      <td>Bakthesh33@Gmail.Com</td>\n",
       "      <td>2</td>\n",
       "      <td>yes</td>\n",
       "    </tr>\n",
       "    <tr>\n",
       "      <th>9320</th>\n",
       "      <td>136175</td>\n",
       "      <td>Chikkavaradaiah22@Gmail.Com</td>\n",
       "      <td>2</td>\n",
       "      <td>yes</td>\n",
       "    </tr>\n",
       "    <tr>\n",
       "      <th>9321</th>\n",
       "      <td>136178</td>\n",
       "      <td>Jayalakshmi22@Gmail.Com</td>\n",
       "      <td>2</td>\n",
       "      <td>yes</td>\n",
       "    </tr>\n",
       "    <tr>\n",
       "      <th>9322</th>\n",
       "      <td>136179</td>\n",
       "      <td>Srinivasa45@Gmail.Com</td>\n",
       "      <td>2</td>\n",
       "      <td>yes</td>\n",
       "    </tr>\n",
       "    <tr>\n",
       "      <th>9741</th>\n",
       "      <td>139069</td>\n",
       "      <td>Abhishek1994@Gmail.Com</td>\n",
       "      <td>4</td>\n",
       "      <td>yes</td>\n",
       "    </tr>\n",
       "    <tr>\n",
       "      <th>10931</th>\n",
       "      <td>155355</td>\n",
       "      <td>Sanjayparmaj1903@Gmail.Com</td>\n",
       "      <td>4</td>\n",
       "      <td>yes</td>\n",
       "    </tr>\n",
       "    <tr>\n",
       "      <th>18274</th>\n",
       "      <td>278501</td>\n",
       "      <td>Shubham9174529870@Gmail.Com</td>\n",
       "      <td>10</td>\n",
       "      <td>yes</td>\n",
       "    </tr>\n",
       "    <tr>\n",
       "      <th>21366</th>\n",
       "      <td>310012</td>\n",
       "      <td>Aslamali9956188352@Gmail.Com</td>\n",
       "      <td>10</td>\n",
       "      <td>yes</td>\n",
       "    </tr>\n",
       "    <tr>\n",
       "      <th>24842</th>\n",
       "      <td>356400</td>\n",
       "      <td>Fsk4941@Gmail.Com</td>\n",
       "      <td>4</td>\n",
       "      <td>yes</td>\n",
       "    </tr>\n",
       "    <tr>\n",
       "      <th>30812</th>\n",
       "      <td>18356</td>\n",
       "      <td>Rinkrajendra@Gmail.Com</td>\n",
       "      <td>0</td>\n",
       "      <td>yes</td>\n",
       "    </tr>\n",
       "    <tr>\n",
       "      <th>31477</th>\n",
       "      <td>21758</td>\n",
       "      <td>Tourindiawithvinod@Gmail.Com</td>\n",
       "      <td>0</td>\n",
       "      <td>yes</td>\n",
       "    </tr>\n",
       "    <tr>\n",
       "      <th>63968</th>\n",
       "      <td>135526</td>\n",
       "      <td>Mahadevaswamy22@Gmail.Com</td>\n",
       "      <td>2</td>\n",
       "      <td>yes</td>\n",
       "    </tr>\n",
       "    <tr>\n",
       "      <th>63970</th>\n",
       "      <td>135530</td>\n",
       "      <td>Siddaraju78@Gmail.Com</td>\n",
       "      <td>2</td>\n",
       "      <td>yes</td>\n",
       "    </tr>\n",
       "    <tr>\n",
       "      <th>63971</th>\n",
       "      <td>135532</td>\n",
       "      <td>Allabaksh09@Gmail.Com</td>\n",
       "      <td>2</td>\n",
       "      <td>yes</td>\n",
       "    </tr>\n",
       "    <tr>\n",
       "      <th>77481</th>\n",
       "      <td>179629</td>\n",
       "      <td>Ceoffelovermeenu@Gmail.Com</td>\n",
       "      <td>0</td>\n",
       "      <td>yes</td>\n",
       "    </tr>\n",
       "    <tr>\n",
       "      <th>84550</th>\n",
       "      <td>202893</td>\n",
       "      <td>Hiramankale04@Gmail.Com</td>\n",
       "      <td>2</td>\n",
       "      <td>yes</td>\n",
       "    </tr>\n",
       "    <tr>\n",
       "      <th>98983</th>\n",
       "      <td>254455</td>\n",
       "      <td>Iarohlynekharshiing@Gmail.Com</td>\n",
       "      <td>0</td>\n",
       "      <td>yes</td>\n",
       "    </tr>\n",
       "    <tr>\n",
       "      <th>108032</th>\n",
       "      <td>276487</td>\n",
       "      <td>Ajaydhall496@Gmail.Com</td>\n",
       "      <td>3</td>\n",
       "      <td>yes</td>\n",
       "    </tr>\n",
       "    <tr>\n",
       "      <th>123262</th>\n",
       "      <td>316658</td>\n",
       "      <td>Ram Surat 3492@Gmail.Com</td>\n",
       "      <td>4</td>\n",
       "      <td>yes</td>\n",
       "    </tr>\n",
       "  </tbody>\n",
       "</table>\n",
       "</div>"
      ],
      "text/plain": [
       "            ID                  Company Names  Digits present Is Email\n",
       "699       3855        Tammineni1991@Gmail.Com               4      yes\n",
       "2677     52523      Nirmalyadav0511@Gmail.Com               4      yes\n",
       "5693     92400          Someshmurmu@Gmail.Com               0      yes\n",
       "6099     94261            Mr9177745@Gmail.Com               7      yes\n",
       "9191    135523         Mudalagiri22@Gmail.Com               2      yes\n",
       "9192    135524         Basavaraju90@Gmail.Com               2      yes\n",
       "9193    135529           Shivamma33@Gmail.Com               2      yes\n",
       "9194    135531       Maheshachary09@Gmail.Com               2      yes\n",
       "9195    135533            Revanna55@Gmail.Com               2      yes\n",
       "9196    135534             Nagesh33@Gmail.Com               2      yes\n",
       "9199    135538          Javaraiah22@Gmail.Com               2      yes\n",
       "9200    135541        Raghavendra33@Gmail.Com               2      yes\n",
       "9201    135544             Sheela57@Gmail.Com               2      yes\n",
       "9204    135548             Sanjay12@Gmail.Com               2      yes\n",
       "9206    135555           Ravindra11@Gmail.Com               2      yes\n",
       "9207    135556          Javaraiah22@Gmail.Com               2      yes\n",
       "9209    135560           Jayaramu45@Gmail.Com               2      yes\n",
       "9210    135561         Hanumantha22@Gmail.Com               2      yes\n",
       "9211    135563         Puttaswamy67@Gmail.Com               2      yes\n",
       "9212    135565         Sunilkumar43@Gmail.Com               2      yes\n",
       "9221    135594              Madhu44@Gmail.Com               2      yes\n",
       "9222    135597          Venkatesh22@Gmail.Com               2      yes\n",
       "9224    135599        Dileepkumar44@Gmail.Com               2      yes\n",
       "9227    135610         Manjunatha56@Gmail.Com               2      yes\n",
       "9241    135667            Sandeep22@Gmail.Com               2      yes\n",
       "9244    135679         Shivaratna67@Gmail.Com               2      yes\n",
       "9311    136134           Bakthesh33@Gmail.Com               2      yes\n",
       "9320    136175    Chikkavaradaiah22@Gmail.Com               2      yes\n",
       "9321    136178        Jayalakshmi22@Gmail.Com               2      yes\n",
       "9322    136179          Srinivasa45@Gmail.Com               2      yes\n",
       "9741    139069         Abhishek1994@Gmail.Com               4      yes\n",
       "10931   155355     Sanjayparmaj1903@Gmail.Com               4      yes\n",
       "18274   278501    Shubham9174529870@Gmail.Com              10      yes\n",
       "21366   310012   Aslamali9956188352@Gmail.Com              10      yes\n",
       "24842   356400              Fsk4941@Gmail.Com               4      yes\n",
       "30812    18356         Rinkrajendra@Gmail.Com               0      yes\n",
       "31477    21758   Tourindiawithvinod@Gmail.Com               0      yes\n",
       "63968   135526      Mahadevaswamy22@Gmail.Com               2      yes\n",
       "63970   135530          Siddaraju78@Gmail.Com               2      yes\n",
       "63971   135532          Allabaksh09@Gmail.Com               2      yes\n",
       "77481   179629     Ceoffelovermeenu@Gmail.Com               0      yes\n",
       "84550   202893        Hiramankale04@Gmail.Com               2      yes\n",
       "98983   254455  Iarohlynekharshiing@Gmail.Com               0      yes\n",
       "108032  276487         Ajaydhall496@Gmail.Com               3      yes\n",
       "123262  316658       Ram Surat 3492@Gmail.Com               4      yes"
      ]
     },
     "execution_count": 25,
     "metadata": {},
     "output_type": "execute_result"
    }
   ],
   "source": [
    "df[df[\"Is Email\"] == \"yes\"]"
   ]
  },
  {
   "cell_type": "markdown",
   "id": "184f7e47",
   "metadata": {},
   "source": [
    "- As expected there are many emails in the company names column"
   ]
  },
  {
   "cell_type": "markdown",
   "id": "3632f570",
   "metadata": {},
   "source": [
    "### Checking for \"#\" with regexp"
   ]
  },
  {
   "cell_type": "code",
   "execution_count": 26,
   "id": "7bd7d293",
   "metadata": {},
   "outputs": [],
   "source": [
    "regex = r'#'   #Check if it contains any #\n",
    "def checkIfEmail(email):\n",
    "    if(re.search(regex,email)):\n",
    "        return(\"yes\")   \n",
    "    else:\n",
    "        return(\"no\")"
   ]
  },
  {
   "cell_type": "code",
   "execution_count": 27,
   "id": "197e5b69",
   "metadata": {
    "scrolled": true
   },
   "outputs": [],
   "source": [
    "df[\"Is Email\"] = df[\"Company Names\"].map(checkIfEmail)"
   ]
  },
  {
   "cell_type": "code",
   "execution_count": 28,
   "id": "73dbc825",
   "metadata": {
    "scrolled": true
   },
   "outputs": [
    {
     "data": {
      "text/html": [
       "<div>\n",
       "<style scoped>\n",
       "    .dataframe tbody tr th:only-of-type {\n",
       "        vertical-align: middle;\n",
       "    }\n",
       "\n",
       "    .dataframe tbody tr th {\n",
       "        vertical-align: top;\n",
       "    }\n",
       "\n",
       "    .dataframe thead th {\n",
       "        text-align: right;\n",
       "    }\n",
       "</style>\n",
       "<table border=\"1\" class=\"dataframe\">\n",
       "  <thead>\n",
       "    <tr style=\"text-align: right;\">\n",
       "      <th></th>\n",
       "      <th>ID</th>\n",
       "      <th>Company Names</th>\n",
       "      <th>Digits present</th>\n",
       "      <th>Is Email</th>\n",
       "    </tr>\n",
       "  </thead>\n",
       "  <tbody>\n",
       "    <tr>\n",
       "      <th>19037</th>\n",
       "      <td>285279</td>\n",
       "      <td>#Phonemaster</td>\n",
       "      <td>0</td>\n",
       "      <td>yes</td>\n",
       "    </tr>\n",
       "  </tbody>\n",
       "</table>\n",
       "</div>"
      ],
      "text/plain": [
       "           ID Company Names  Digits present Is Email\n",
       "19037  285279  #Phonemaster               0      yes"
      ]
     },
     "execution_count": 28,
     "metadata": {},
     "output_type": "execute_result"
    }
   ],
   "source": [
    "df[df[\"Is Email\"] == \"yes\"]"
   ]
  },
  {
   "cell_type": "markdown",
   "id": "a41b252d",
   "metadata": {},
   "source": [
    "- We found one result containing the #(pound) symbol.\n",
    "- We have to format this value by removing pound symbol."
   ]
  },
  {
   "cell_type": "markdown",
   "id": "1eeb1cb6",
   "metadata": {},
   "source": [
    "### UDF that counts words in the string"
   ]
  },
  {
   "cell_type": "code",
   "execution_count": 41,
   "id": "773394f9",
   "metadata": {},
   "outputs": [],
   "source": [
    "def countWords(company_names):\n",
    "    count = 0\n",
    "    for x in company_names:\n",
    "        if x.isspace():\n",
    "            count = count + 1\n",
    "    return count+1"
   ]
  },
  {
   "cell_type": "markdown",
   "id": "4a9bf1ab",
   "metadata": {},
   "source": [
    "### Applying the UDF as per value in \"Company Names\"\n",
    "- Making a new feature as \"Digits present\" alongside the previous\n",
    "- Count of digits was found to be relatively large for wrong values(Can be proved below)"
   ]
  },
  {
   "cell_type": "code",
   "execution_count": 42,
   "id": "000115b0",
   "metadata": {},
   "outputs": [],
   "source": [
    "df[\"Words present\"] = df[\"Company Names\"].map(countWords)\n",
    "# df['new_col'] = df[\"Company Names\"].apply(count_digits_in_text)"
   ]
  },
  {
   "cell_type": "markdown",
   "id": "dfc8414b",
   "metadata": {},
   "source": [
    "### Sorting by \"Words present\" in descending order\n",
    "- This sorting clears fact that - \"Count of digits was found to be relatively large for wrong values\""
   ]
  },
  {
   "cell_type": "code",
   "execution_count": 43,
   "id": "ce60e44c",
   "metadata": {},
   "outputs": [
    {
     "data": {
      "text/html": [
       "<div>\n",
       "<style scoped>\n",
       "    .dataframe tbody tr th:only-of-type {\n",
       "        vertical-align: middle;\n",
       "    }\n",
       "\n",
       "    .dataframe tbody tr th {\n",
       "        vertical-align: top;\n",
       "    }\n",
       "\n",
       "    .dataframe thead th {\n",
       "        text-align: right;\n",
       "    }\n",
       "</style>\n",
       "<table border=\"1\" class=\"dataframe\">\n",
       "  <thead>\n",
       "    <tr style=\"text-align: right;\">\n",
       "      <th></th>\n",
       "      <th>ID</th>\n",
       "      <th>Company Names</th>\n",
       "      <th>Digits present</th>\n",
       "      <th>Is Email</th>\n",
       "      <th>Words present</th>\n",
       "    </tr>\n",
       "  </thead>\n",
       "  <tbody>\n",
       "    <tr>\n",
       "      <th>67145</th>\n",
       "      <td>143191</td>\n",
       "      <td>Sri Shivaramu S K Prop Of Sri Ranga Enterprise...</td>\n",
       "      <td>0</td>\n",
       "      <td>no</td>\n",
       "      <td>24</td>\n",
       "    </tr>\n",
       "    <tr>\n",
       "      <th>73945</th>\n",
       "      <td>163985</td>\n",
       "      <td>Monira Auto Garage /// All Types Of Four Wheel...</td>\n",
       "      <td>0</td>\n",
       "      <td>no</td>\n",
       "      <td>21</td>\n",
       "    </tr>\n",
       "    <tr>\n",
       "      <th>287</th>\n",
       "      <td>1634</td>\n",
       "      <td>Cc Bio Fuels ,Sy No -497/1 And 498/2 ,With 30 ...</td>\n",
       "      <td>16</td>\n",
       "      <td>no</td>\n",
       "      <td>20</td>\n",
       "    </tr>\n",
       "    <tr>\n",
       "      <th>138828</th>\n",
       "      <td>360807</td>\n",
       "      <td>Vill - Rifiuji Para, P.O - Maniktala, P.S - As...</td>\n",
       "      <td>6</td>\n",
       "      <td>no</td>\n",
       "      <td>19</td>\n",
       "    </tr>\n",
       "    <tr>\n",
       "      <th>96681</th>\n",
       "      <td>246256</td>\n",
       "      <td>Shipra Book Depo And Gen Stores Novelty, Shipr...</td>\n",
       "      <td>0</td>\n",
       "      <td>no</td>\n",
       "      <td>19</td>\n",
       "    </tr>\n",
       "  </tbody>\n",
       "</table>\n",
       "</div>"
      ],
      "text/plain": [
       "            ID                                      Company Names  \\\n",
       "67145   143191  Sri Shivaramu S K Prop Of Sri Ranga Enterprise...   \n",
       "73945   163985  Monira Auto Garage /// All Types Of Four Wheel...   \n",
       "287       1634  Cc Bio Fuels ,Sy No -497/1 And 498/2 ,With 30 ...   \n",
       "138828  360807  Vill - Rifiuji Para, P.O - Maniktala, P.S - As...   \n",
       "96681   246256  Shipra Book Depo And Gen Stores Novelty, Shipr...   \n",
       "\n",
       "        Digits present Is Email  Words present  \n",
       "67145                0       no             24  \n",
       "73945                0       no             21  \n",
       "287                 16       no             20  \n",
       "138828               6       no             19  \n",
       "96681                0       no             19  "
      ]
     },
     "execution_count": 43,
     "metadata": {},
     "output_type": "execute_result"
    }
   ],
   "source": [
    "df.sort_values(by=[\"Words present\"],ascending=False).head()"
   ]
  },
  {
   "cell_type": "code",
   "execution_count": 44,
   "id": "a4d0a5a9",
   "metadata": {},
   "outputs": [
    {
     "data": {
      "text/plain": [
       "count    140790.00000\n",
       "mean          2.79642\n",
       "std           1.26760\n",
       "min           1.00000\n",
       "25%           2.00000\n",
       "50%           2.00000\n",
       "75%           3.00000\n",
       "max          24.00000\n",
       "Name: Words present, dtype: float64"
      ]
     },
     "execution_count": 44,
     "metadata": {},
     "output_type": "execute_result"
    }
   ],
   "source": [
    "df[\"Words present\"].describe()"
   ]
  },
  {
   "cell_type": "code",
   "execution_count": 45,
   "id": "e15a02c5",
   "metadata": {},
   "outputs": [
    {
     "data": {
      "text/plain": [
       "<AxesSubplot:ylabel='Words present'>"
      ]
     },
     "execution_count": 45,
     "metadata": {},
     "output_type": "execute_result"
    },
    {
     "data": {
      "image/png": "[encoded data removed]",
      "text/plain": [
       "<Figure size 432x288 with 1 Axes>"
      ]
     },
     "metadata": {
      "needs_background": "light"
     },
     "output_type": "display_data"
    }
   ],
   "source": [
    "sns.boxplot(y=df[\"Words present\"])"
   ]
  },
  {
   "cell_type": "code",
   "execution_count": 46,
   "id": "417b0eef",
   "metadata": {},
   "outputs": [
    {
     "data": {
      "text/plain": [
       "2.0"
      ]
     },
     "execution_count": 46,
     "metadata": {},
     "output_type": "execute_result"
    }
   ],
   "source": [
    "df[\"Words present\"].median()"
   ]
  },
  {
   "cell_type": "code",
   "execution_count": null,
   "id": "89cf6e29",
   "metadata": {},
   "outputs": [],
   "source": []
  },
  {
   "cell_type": "code",
   "execution_count": null,
   "id": "73bd0ad9",
   "metadata": {},
   "outputs": [],
   "source": []
  },
  {
   "cell_type": "code",
   "execution_count": null,
   "id": "cc485575",
   "metadata": {},
   "outputs": [],
   "source": []
  },
  {
   "cell_type": "code",
   "execution_count": null,
   "id": "51f2c436",
   "metadata": {},
   "outputs": [],
   "source": []
  }
 ],
 "metadata": {
  "kernelspec": {
   "display_name": "Python 3 (ipykernel)",
   "language": "python",
   "name": "python3"
  },
  "language_info": {
   "codemirror_mode": {
    "name": "ipython",
    "version": 3
   },
   "file_extension": ".py",
   "mimetype": "text/x-python",
   "name": "python",
   "nbconvert_exporter": "python",
   "pygments_lexer": "ipython3",
   "version": "3.9.7"
  }
 },
 "nbformat": 4,
 "nbformat_minor": 5
}

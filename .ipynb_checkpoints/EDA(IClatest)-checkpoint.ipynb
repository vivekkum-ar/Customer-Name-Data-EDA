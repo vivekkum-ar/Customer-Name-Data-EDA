{
 "cells": [
  {
   "cell_type": "code",
   "execution_count": 1,
   "id": "eb8af51a",
   "metadata": {},
   "outputs": [],
   "source": [
    "import matplotlib.pyplot as plt \n",
    "import pandas as pd\n",
    "import seaborn as sns\n",
    "import numpy as np\n",
    "%matplotlib inline\n",
    "import warnings\n",
    "warnings.filterwarnings(\"ignore\")\n",
    "import re"
   ]
  },
  {
   "cell_type": "markdown",
   "id": "0ce3681f",
   "metadata": {},
   "source": [
    "### Reading the data"
   ]
  },
  {
   "cell_type": "code",
   "execution_count": 2,
   "id": "4f7025f2",
   "metadata": {},
   "outputs": [
    {
     "data": {
      "text/html": [
       "<div>\n",
       "<style scoped>\n",
       "    .dataframe tbody tr th:only-of-type {\n",
       "        vertical-align: middle;\n",
       "    }\n",
       "\n",
       "    .dataframe tbody tr th {\n",
       "        vertical-align: top;\n",
       "    }\n",
       "\n",
       "    .dataframe thead th {\n",
       "        text-align: right;\n",
       "    }\n",
       "</style>\n",
       "<table border=\"1\" class=\"dataframe\">\n",
       "  <thead>\n",
       "    <tr style=\"text-align: right;\">\n",
       "      <th></th>\n",
       "      <th>companyname</th>\n",
       "    </tr>\n",
       "  </thead>\n",
       "  <tbody>\n",
       "    <tr>\n",
       "      <th>0</th>\n",
       "      <td>Syed Mateen Uddin</td>\n",
       "    </tr>\n",
       "    <tr>\n",
       "      <th>1</th>\n",
       "      <td>Pawar Bharathi</td>\n",
       "    </tr>\n",
       "    <tr>\n",
       "      <th>2</th>\n",
       "      <td>Mekala Sneha</td>\n",
       "    </tr>\n",
       "    <tr>\n",
       "      <th>3</th>\n",
       "      <td>Gulam Rabbani</td>\n",
       "    </tr>\n",
       "    <tr>\n",
       "      <th>4</th>\n",
       "      <td>Black Gold</td>\n",
       "    </tr>\n",
       "  </tbody>\n",
       "</table>\n",
       "</div>"
      ],
      "text/plain": [
       "         companyname\n",
       "0  Syed Mateen Uddin\n",
       "1     Pawar Bharathi\n",
       "2       Mekala Sneha\n",
       "3      Gulam Rabbani\n",
       "4         Black Gold"
      ]
     },
     "execution_count": 2,
     "metadata": {},
     "output_type": "execute_result"
    }
   ],
   "source": [
    "df = pd.read_excel(\"C:/Users/Vivek Kumar/Desktop/Customer-Name-Data-EDA/Customer-Name-Data-EDA/IClatest.xlsx\")\n",
    "df.head()"
   ]
  },
  {
   "cell_type": "markdown",
   "id": "2cc02773",
   "metadata": {},
   "source": [
    "### No. of records in each column"
   ]
  },
  {
   "cell_type": "code",
   "execution_count": 3,
   "id": "f82ed084",
   "metadata": {},
   "outputs": [
    {
     "data": {
      "text/plain": [
       "companyname    78538\n",
       "dtype: int64"
      ]
     },
     "execution_count": 3,
     "metadata": {},
     "output_type": "execute_result"
    }
   ],
   "source": [
    "df.count()"
   ]
  },
  {
   "cell_type": "markdown",
   "id": "a9b0e5c2",
   "metadata": {},
   "source": [
    "### Dtype(data-type) of each column"
   ]
  },
  {
   "cell_type": "code",
   "execution_count": 4,
   "id": "8a5e14b5",
   "metadata": {
    "scrolled": true
   },
   "outputs": [
    {
     "name": "stdout",
     "output_type": "stream",
     "text": [
      "<class 'pandas.core.frame.DataFrame'>\n",
      "RangeIndex: 78538 entries, 0 to 78537\n",
      "Data columns (total 1 columns):\n",
      " #   Column       Non-Null Count  Dtype \n",
      "---  ------       --------------  ----- \n",
      " 0   companyname  78538 non-null  object\n",
      "dtypes: object(1)\n",
      "memory usage: 613.7+ KB\n"
     ]
    }
   ],
   "source": [
    "df.info()"
   ]
  },
  {
   "cell_type": "markdown",
   "id": "cb08e0c3",
   "metadata": {},
   "source": [
    "### Need to standardise data to the obvious(str type)"
   ]
  },
  {
   "cell_type": "code",
   "execution_count": 5,
   "id": "78497170",
   "metadata": {},
   "outputs": [],
   "source": [
    "df['Company Names'] = df['companyname'].astype(str)"
   ]
  },
  {
   "cell_type": "code",
   "execution_count": 6,
   "id": "c2b87523",
   "metadata": {},
   "outputs": [
    {
     "name": "stdout",
     "output_type": "stream",
     "text": [
      "<class 'pandas.core.frame.DataFrame'>\n",
      "RangeIndex: 78538 entries, 0 to 78537\n",
      "Data columns (total 2 columns):\n",
      " #   Column         Non-Null Count  Dtype \n",
      "---  ------         --------------  ----- \n",
      " 0   companyname    78538 non-null  object\n",
      " 1   Company Names  78538 non-null  object\n",
      "dtypes: object(2)\n",
      "memory usage: 1.2+ MB\n"
     ]
    }
   ],
   "source": [
    "df.info()"
   ]
  },
  {
   "cell_type": "markdown",
   "id": "9ce440ce",
   "metadata": {},
   "source": [
    "### UDF that counts digits in the string "
   ]
  },
  {
   "cell_type": "code",
   "execution_count": 7,
   "id": "464b24b3",
   "metadata": {},
   "outputs": [],
   "source": [
    "def countDigits(company_names):\n",
    "    count = 0\n",
    "    for x in company_names:\n",
    "        if x.isdigit():\n",
    "            count = count + 1\n",
    "    return count"
   ]
  },
  {
   "cell_type": "markdown",
   "id": "1905a20c",
   "metadata": {},
   "source": [
    "### Applying the UDF as per value in \"Company Names\"\n",
    "- Making a new feature as \"Digits present\" alongside the previous\n",
    "- Count of digits was found to be relatively large for wrong values(Can be proved below)"
   ]
  },
  {
   "cell_type": "code",
   "execution_count": 8,
   "id": "444ad871",
   "metadata": {},
   "outputs": [],
   "source": [
    "df[\"Digits present\"] = df[\"Company Names\"].map(countDigits)\n",
    "# df['new_col'] = df[\"Company Names\"].apply(count_digits_in_text)"
   ]
  },
  {
   "cell_type": "markdown",
   "id": "74843558",
   "metadata": {},
   "source": [
    "### No. of records in each column"
   ]
  },
  {
   "cell_type": "code",
   "execution_count": 9,
   "id": "76183ef7",
   "metadata": {},
   "outputs": [
    {
     "data": {
      "text/plain": [
       "companyname       78538\n",
       "Company Names     78538\n",
       "Digits present    78538\n",
       "dtype: int64"
      ]
     },
     "execution_count": 9,
     "metadata": {},
     "output_type": "execute_result"
    }
   ],
   "source": [
    "df.count()"
   ]
  },
  {
   "cell_type": "markdown",
   "id": "8e4228b9",
   "metadata": {},
   "source": [
    "### Sorting by \"Digits Present\" in descending order\n",
    "- This sorting clears fact that - \"Count of digits was found to be relatively large for wrong values\""
   ]
  },
  {
   "cell_type": "code",
   "execution_count": 10,
   "id": "ba5e039c",
   "metadata": {},
   "outputs": [
    {
     "data": {
      "text/html": [
       "<div>\n",
       "<style scoped>\n",
       "    .dataframe tbody tr th:only-of-type {\n",
       "        vertical-align: middle;\n",
       "    }\n",
       "\n",
       "    .dataframe tbody tr th {\n",
       "        vertical-align: top;\n",
       "    }\n",
       "\n",
       "    .dataframe thead th {\n",
       "        text-align: right;\n",
       "    }\n",
       "</style>\n",
       "<table border=\"1\" class=\"dataframe\">\n",
       "  <thead>\n",
       "    <tr style=\"text-align: right;\">\n",
       "      <th></th>\n",
       "      <th>companyname</th>\n",
       "      <th>Company Names</th>\n",
       "      <th>Digits present</th>\n",
       "    </tr>\n",
       "  </thead>\n",
       "  <tbody>\n",
       "    <tr>\n",
       "      <th>43381</th>\n",
       "      <td>Zayam Collection 1-10-4/C Shah Saheb Gutta Mah...</td>\n",
       "      <td>Zayam Collection 1-10-4/C Shah Saheb Gutta Mah...</td>\n",
       "      <td>10</td>\n",
       "    </tr>\n",
       "    <tr>\n",
       "      <th>9216</th>\n",
       "      <td>Sajid9912967380@Gmail.Com</td>\n",
       "      <td>Sajid9912967380@Gmail.Com</td>\n",
       "      <td>10</td>\n",
       "    </tr>\n",
       "    <tr>\n",
       "      <th>8422</th>\n",
       "      <td>36bntpb6679k1z6</td>\n",
       "      <td>36bntpb6679k1z6</td>\n",
       "      <td>8</td>\n",
       "    </tr>\n",
       "    <tr>\n",
       "      <th>17644</th>\n",
       "      <td>N0387034</td>\n",
       "      <td>N0387034</td>\n",
       "      <td>7</td>\n",
       "    </tr>\n",
       "    <tr>\n",
       "      <th>77824</th>\n",
       "      <td>Crime100 Broad Cast T V News India 24x7</td>\n",
       "      <td>Crime100 Broad Cast T V News India 24x7</td>\n",
       "      <td>6</td>\n",
       "    </tr>\n",
       "  </tbody>\n",
       "</table>\n",
       "</div>"
      ],
      "text/plain": [
       "                                             companyname  \\\n",
       "43381  Zayam Collection 1-10-4/C Shah Saheb Gutta Mah...   \n",
       "9216                           Sajid9912967380@Gmail.Com   \n",
       "8422                                     36bntpb6679k1z6   \n",
       "17644                                           N0387034   \n",
       "77824            Crime100 Broad Cast T V News India 24x7   \n",
       "\n",
       "                                           Company Names  Digits present  \n",
       "43381  Zayam Collection 1-10-4/C Shah Saheb Gutta Mah...              10  \n",
       "9216                           Sajid9912967380@Gmail.Com              10  \n",
       "8422                                     36bntpb6679k1z6               8  \n",
       "17644                                           N0387034               7  \n",
       "77824            Crime100 Broad Cast T V News India 24x7               6  "
      ]
     },
     "execution_count": 10,
     "metadata": {},
     "output_type": "execute_result"
    }
   ],
   "source": [
    "df.sort_values(by=[\"Digits present\"],ascending=False).head()"
   ]
  },
  {
   "cell_type": "markdown",
   "id": "103572e0",
   "metadata": {},
   "source": [
    "### Let's look at median of \"Digits Present\""
   ]
  },
  {
   "cell_type": "code",
   "execution_count": 11,
   "id": "a50cd49a",
   "metadata": {
    "scrolled": true
   },
   "outputs": [
    {
     "data": {
      "text/plain": [
       "count    78538.000000\n",
       "mean         0.006965\n",
       "std          0.136307\n",
       "min          0.000000\n",
       "25%          0.000000\n",
       "50%          0.000000\n",
       "75%          0.000000\n",
       "max         10.000000\n",
       "Name: Digits present, dtype: float64"
      ]
     },
     "execution_count": 11,
     "metadata": {},
     "output_type": "execute_result"
    }
   ],
   "source": [
    "df[\"Digits present\"].describe()"
   ]
  },
  {
   "cell_type": "code",
   "execution_count": 12,
   "id": "7b52935f",
   "metadata": {},
   "outputs": [
    {
     "data": {
      "text/plain": [
       "0.0"
      ]
     },
     "execution_count": 12,
     "metadata": {},
     "output_type": "execute_result"
    }
   ],
   "source": [
    "df[\"Digits present\"].median()"
   ]
  },
  {
   "cell_type": "markdown",
   "id": "d33a1d96",
   "metadata": {},
   "source": [
    "#### Above value dictates, most of the values in Company Names have no numbers in their names"
   ]
  },
  {
   "cell_type": "code",
   "execution_count": 13,
   "id": "21630a23",
   "metadata": {
    "scrolled": true
   },
   "outputs": [
    {
     "name": "stdout",
     "output_type": "stream",
     "text": [
      "<class 'pandas.core.frame.DataFrame'>\n",
      "RangeIndex: 78538 entries, 0 to 78537\n",
      "Data columns (total 3 columns):\n",
      " #   Column          Non-Null Count  Dtype \n",
      "---  ------          --------------  ----- \n",
      " 0   companyname     78538 non-null  object\n",
      " 1   Company Names   78538 non-null  object\n",
      " 2   Digits present  78538 non-null  int64 \n",
      "dtypes: int64(1), object(2)\n",
      "memory usage: 1.8+ MB\n"
     ]
    }
   ],
   "source": [
    "df.info()"
   ]
  },
  {
   "cell_type": "markdown",
   "id": "a46774cf",
   "metadata": {},
   "source": [
    "### No. of records having    \"null/nan/NaN/empty\"    values"
   ]
  },
  {
   "cell_type": "code",
   "execution_count": 14,
   "id": "7a0a3135",
   "metadata": {
    "scrolled": true
   },
   "outputs": [
    {
     "data": {
      "text/html": [
       "<div>\n",
       "<style scoped>\n",
       "    .dataframe tbody tr th:only-of-type {\n",
       "        vertical-align: middle;\n",
       "    }\n",
       "\n",
       "    .dataframe tbody tr th {\n",
       "        vertical-align: top;\n",
       "    }\n",
       "\n",
       "    .dataframe thead th {\n",
       "        text-align: right;\n",
       "    }\n",
       "</style>\n",
       "<table border=\"1\" class=\"dataframe\">\n",
       "  <thead>\n",
       "    <tr style=\"text-align: right;\">\n",
       "      <th></th>\n",
       "      <th>companyname</th>\n",
       "      <th>Company Names</th>\n",
       "      <th>Digits present</th>\n",
       "    </tr>\n",
       "  </thead>\n",
       "  <tbody>\n",
       "    <tr>\n",
       "      <th>63336</th>\n",
       "      <td>N/a</td>\n",
       "      <td>N/a</td>\n",
       "      <td>0</td>\n",
       "    </tr>\n",
       "  </tbody>\n",
       "</table>\n",
       "</div>"
      ],
      "text/plain": [
       "      companyname Company Names  Digits present\n",
       "63336         N/a           N/a               0"
      ]
     },
     "execution_count": 14,
     "metadata": {},
     "output_type": "execute_result"
    }
   ],
   "source": [
    "df.loc[(df['Company Names'].isna() == True) | (df['Company Names'].isin(['N/a','NaN','NA','N/A','n/A','nan',\"\",\" \"]))]"
   ]
  },
  {
   "cell_type": "markdown",
   "id": "2ee76164",
   "metadata": {},
   "source": [
    "### Distribution of values in \"Digits present\" column"
   ]
  },
  {
   "cell_type": "code",
   "execution_count": 15,
   "id": "bbf1f3c0",
   "metadata": {},
   "outputs": [
    {
     "data": {
      "text/html": [
       "<div>\n",
       "<style scoped>\n",
       "    .dataframe tbody tr th:only-of-type {\n",
       "        vertical-align: middle;\n",
       "    }\n",
       "\n",
       "    .dataframe tbody tr th {\n",
       "        vertical-align: top;\n",
       "    }\n",
       "\n",
       "    .dataframe thead th {\n",
       "        text-align: right;\n",
       "    }\n",
       "</style>\n",
       "<table border=\"1\" class=\"dataframe\">\n",
       "  <thead>\n",
       "    <tr style=\"text-align: right;\">\n",
       "      <th></th>\n",
       "      <th>Digits present</th>\n",
       "    </tr>\n",
       "  </thead>\n",
       "  <tbody>\n",
       "    <tr>\n",
       "      <th>0</th>\n",
       "      <td>78211</td>\n",
       "    </tr>\n",
       "    <tr>\n",
       "      <th>1</th>\n",
       "      <td>219</td>\n",
       "    </tr>\n",
       "    <tr>\n",
       "      <th>2</th>\n",
       "      <td>52</td>\n",
       "    </tr>\n",
       "    <tr>\n",
       "      <th>3</th>\n",
       "      <td>28</td>\n",
       "    </tr>\n",
       "    <tr>\n",
       "      <th>4</th>\n",
       "      <td>18</td>\n",
       "    </tr>\n",
       "    <tr>\n",
       "      <th>6</th>\n",
       "      <td>3</td>\n",
       "    </tr>\n",
       "    <tr>\n",
       "      <th>5</th>\n",
       "      <td>3</td>\n",
       "    </tr>\n",
       "    <tr>\n",
       "      <th>10</th>\n",
       "      <td>2</td>\n",
       "    </tr>\n",
       "    <tr>\n",
       "      <th>8</th>\n",
       "      <td>1</td>\n",
       "    </tr>\n",
       "    <tr>\n",
       "      <th>7</th>\n",
       "      <td>1</td>\n",
       "    </tr>\n",
       "  </tbody>\n",
       "</table>\n",
       "</div>"
      ],
      "text/plain": [
       "    Digits present\n",
       "0            78211\n",
       "1              219\n",
       "2               52\n",
       "3               28\n",
       "4               18\n",
       "6                3\n",
       "5                3\n",
       "10               2\n",
       "8                1\n",
       "7                1"
      ]
     },
     "execution_count": 15,
     "metadata": {},
     "output_type": "execute_result"
    }
   ],
   "source": [
    "pd.DataFrame(df[\"Digits present\"].value_counts())"
   ]
  },
  {
   "cell_type": "markdown",
   "id": "6a4db99c",
   "metadata": {},
   "source": [
    "### % of names that have no numbers in between them"
   ]
  },
  {
   "cell_type": "code",
   "execution_count": 16,
   "id": "31afaea5",
   "metadata": {},
   "outputs": [
    {
     "name": "stdout",
     "output_type": "stream",
     "text": [
      "Percent of company names/ individual names having one or more than 1 number in between: 99.58%\n"
     ]
    }
   ],
   "source": [
    "print(\"Percent of company names/ individual names having one or more than 1 number in between: \" \n",
    "      + \"{:.2f}\".format((78211/78538)*100) + \"%\") #the figure of 139949 has been taken from the Distribution above"
   ]
  },
  {
   "cell_type": "markdown",
   "id": "faf978b2",
   "metadata": {},
   "source": [
    "### Plots that show - \"Most of the company names have 0-2 number of digits in their name\""
   ]
  },
  {
   "cell_type": "code",
   "execution_count": 17,
   "id": "0dee7614",
   "metadata": {
    "scrolled": true
   },
   "outputs": [
    {
     "data": {
      "text/plain": [
       "<AxesSubplot:>"
      ]
     },
     "execution_count": 17,
     "metadata": {},
     "output_type": "execute_result"
    },
    {
     "data": {
      "image/png": "[encoded data removed]",
      "text/plain": [
       "<Figure size 1080x360 with 1 Axes>"
      ]
     },
     "metadata": {
      "needs_background": "light"
     },
     "output_type": "display_data"
    }
   ],
   "source": [
    "plt.figure(figsize=[15,5])\n",
    "y=df[\"Digits present\"].value_counts().sort_index(ascending=True).values.tolist()\n",
    "x=df[\"Digits present\"].value_counts().sort_index(ascending=True).index.tolist()\n",
    "sns.lineplot(x=x,y=y)"
   ]
  },
  {
   "cell_type": "code",
   "execution_count": 18,
   "id": "24beee09",
   "metadata": {
    "scrolled": true
   },
   "outputs": [
    {
     "data": {
      "text/plain": [
       "<AxesSubplot:>"
      ]
     },
     "execution_count": 18,
     "metadata": {},
     "output_type": "execute_result"
    },
    {
     "data": {
      "image/png": "[encoded data removed]",
      "text/plain": [
       "<Figure size 1080x360 with 1 Axes>"
      ]
     },
     "metadata": {
      "needs_background": "light"
     },
     "output_type": "display_data"
    }
   ],
   "source": [
    "plt.figure(figsize=[15,5])\n",
    "sns.barplot(x=x,y=y)"
   ]
  },
  {
   "cell_type": "markdown",
   "id": "56747fd1",
   "metadata": {},
   "source": [
    "### Checking for \"@\" with regexp"
   ]
  },
  {
   "cell_type": "code",
   "execution_count": 19,
   "id": "2bd7102b",
   "metadata": {},
   "outputs": [],
   "source": [
    "regex = r'@'   #Check if it contains any @\n",
    "def checkIfEmail(email):\n",
    "    if(re.search(regex,email)):\n",
    "        return(\"yes\")   \n",
    "    else:\n",
    "        return(\"no\")"
   ]
  },
  {
   "cell_type": "code",
   "execution_count": 20,
   "id": "134581aa",
   "metadata": {
    "scrolled": true
   },
   "outputs": [],
   "source": [
    "df[\"Is Email\"] = df[\"Company Names\"].map(checkIfEmail)"
   ]
  },
  {
   "cell_type": "code",
   "execution_count": 21,
   "id": "de0e47f7",
   "metadata": {},
   "outputs": [
    {
     "data": {
      "text/html": [
       "<div>\n",
       "<style scoped>\n",
       "    .dataframe tbody tr th:only-of-type {\n",
       "        vertical-align: middle;\n",
       "    }\n",
       "\n",
       "    .dataframe tbody tr th {\n",
       "        vertical-align: top;\n",
       "    }\n",
       "\n",
       "    .dataframe thead th {\n",
       "        text-align: right;\n",
       "    }\n",
       "</style>\n",
       "<table border=\"1\" class=\"dataframe\">\n",
       "  <thead>\n",
       "    <tr style=\"text-align: right;\">\n",
       "      <th></th>\n",
       "      <th>companyname</th>\n",
       "      <th>Company Names</th>\n",
       "      <th>Digits present</th>\n",
       "      <th>Is Email</th>\n",
       "    </tr>\n",
       "  </thead>\n",
       "  <tbody>\n",
       "    <tr>\n",
       "      <th>1010</th>\n",
       "      <td>Moinkhaja009@Gmail.Com</td>\n",
       "      <td>Moinkhaja009@Gmail.Com</td>\n",
       "      <td>3</td>\n",
       "      <td>yes</td>\n",
       "    </tr>\n",
       "    <tr>\n",
       "      <th>9216</th>\n",
       "      <td>Sajid9912967380@Gmail.Com</td>\n",
       "      <td>Sajid9912967380@Gmail.Com</td>\n",
       "      <td>10</td>\n",
       "      <td>yes</td>\n",
       "    </tr>\n",
       "    <tr>\n",
       "      <th>10734</th>\n",
       "      <td>Srinivasbanala1980@Gmail.Com</td>\n",
       "      <td>Srinivasbanala1980@Gmail.Com</td>\n",
       "      <td>4</td>\n",
       "      <td>yes</td>\n",
       "    </tr>\n",
       "    <tr>\n",
       "      <th>11648</th>\n",
       "      <td>Syed123@Gma.Com</td>\n",
       "      <td>Syed123@Gma.Com</td>\n",
       "      <td>3</td>\n",
       "      <td>yes</td>\n",
       "    </tr>\n",
       "    <tr>\n",
       "      <th>25310</th>\n",
       "      <td>Am@ Fashion Mine</td>\n",
       "      <td>Am@ Fashion Mine</td>\n",
       "      <td>0</td>\n",
       "      <td>yes</td>\n",
       "    </tr>\n",
       "    <tr>\n",
       "      <th>38767</th>\n",
       "      <td>M/S Venkataramanarsamma Poulrty Faroum @Feed</td>\n",
       "      <td>M/S Venkataramanarsamma Poulrty Faroum @Feed</td>\n",
       "      <td>0</td>\n",
       "      <td>yes</td>\n",
       "    </tr>\n",
       "    <tr>\n",
       "      <th>46878</th>\n",
       "      <td>Telabixapathi9000@Gmail.Com</td>\n",
       "      <td>Telabixapathi9000@Gmail.Com</td>\n",
       "      <td>4</td>\n",
       "      <td>yes</td>\n",
       "    </tr>\n",
       "    <tr>\n",
       "      <th>51875</th>\n",
       "      <td>Seetha Rama Infra @ Mines</td>\n",
       "      <td>Seetha Rama Infra @ Mines</td>\n",
       "      <td>0</td>\n",
       "      <td>yes</td>\n",
       "    </tr>\n",
       "    <tr>\n",
       "      <th>57995</th>\n",
       "      <td>Naresh95425@Gmail.Com</td>\n",
       "      <td>Naresh95425@Gmail.Com</td>\n",
       "      <td>5</td>\n",
       "      <td>yes</td>\n",
       "    </tr>\n",
       "    <tr>\n",
       "      <th>58788</th>\n",
       "      <td>Vamshimandi@Gmail.Com</td>\n",
       "      <td>Vamshimandi@Gmail.Com</td>\n",
       "      <td>0</td>\n",
       "      <td>yes</td>\n",
       "    </tr>\n",
       "    <tr>\n",
       "      <th>59137</th>\n",
       "      <td>Naresh123@Gmail.Com</td>\n",
       "      <td>Naresh123@Gmail.Com</td>\n",
       "      <td>3</td>\n",
       "      <td>yes</td>\n",
       "    </tr>\n",
       "    <tr>\n",
       "      <th>59144</th>\n",
       "      <td>Madhavibandaru9666@Gmail.Com</td>\n",
       "      <td>Madhavibandaru9666@Gmail.Com</td>\n",
       "      <td>4</td>\n",
       "      <td>yes</td>\n",
       "    </tr>\n",
       "    <tr>\n",
       "      <th>59933</th>\n",
       "      <td>Kavalianjappa@Gmail.Com</td>\n",
       "      <td>Kavalianjappa@Gmail.Com</td>\n",
       "      <td>0</td>\n",
       "      <td>yes</td>\n",
       "    </tr>\n",
       "    <tr>\n",
       "      <th>64578</th>\n",
       "      <td>Kandulavara123@Gmail.Com</td>\n",
       "      <td>Kandulavara123@Gmail.Com</td>\n",
       "      <td>3</td>\n",
       "      <td>yes</td>\n",
       "    </tr>\n",
       "    <tr>\n",
       "      <th>70849</th>\n",
       "      <td>Psantosh.Kumar@Stfc.In</td>\n",
       "      <td>Psantosh.Kumar@Stfc.In</td>\n",
       "      <td>0</td>\n",
       "      <td>yes</td>\n",
       "    </tr>\n",
       "  </tbody>\n",
       "</table>\n",
       "</div>"
      ],
      "text/plain": [
       "                                        companyname  \\\n",
       "1010                         Moinkhaja009@Gmail.Com   \n",
       "9216                      Sajid9912967380@Gmail.Com   \n",
       "10734                  Srinivasbanala1980@Gmail.Com   \n",
       "11648                               Syed123@Gma.Com   \n",
       "25310                              Am@ Fashion Mine   \n",
       "38767  M/S Venkataramanarsamma Poulrty Faroum @Feed   \n",
       "46878                   Telabixapathi9000@Gmail.Com   \n",
       "51875                     Seetha Rama Infra @ Mines   \n",
       "57995                         Naresh95425@Gmail.Com   \n",
       "58788                         Vamshimandi@Gmail.Com   \n",
       "59137                           Naresh123@Gmail.Com   \n",
       "59144                  Madhavibandaru9666@Gmail.Com   \n",
       "59933                       Kavalianjappa@Gmail.Com   \n",
       "64578                      Kandulavara123@Gmail.Com   \n",
       "70849                        Psantosh.Kumar@Stfc.In   \n",
       "\n",
       "                                      Company Names  Digits present Is Email  \n",
       "1010                         Moinkhaja009@Gmail.Com               3      yes  \n",
       "9216                      Sajid9912967380@Gmail.Com              10      yes  \n",
       "10734                  Srinivasbanala1980@Gmail.Com               4      yes  \n",
       "11648                               Syed123@Gma.Com               3      yes  \n",
       "25310                              Am@ Fashion Mine               0      yes  \n",
       "38767  M/S Venkataramanarsamma Poulrty Faroum @Feed               0      yes  \n",
       "46878                   Telabixapathi9000@Gmail.Com               4      yes  \n",
       "51875                     Seetha Rama Infra @ Mines               0      yes  \n",
       "57995                         Naresh95425@Gmail.Com               5      yes  \n",
       "58788                         Vamshimandi@Gmail.Com               0      yes  \n",
       "59137                           Naresh123@Gmail.Com               3      yes  \n",
       "59144                  Madhavibandaru9666@Gmail.Com               4      yes  \n",
       "59933                       Kavalianjappa@Gmail.Com               0      yes  \n",
       "64578                      Kandulavara123@Gmail.Com               3      yes  \n",
       "70849                        Psantosh.Kumar@Stfc.In               0      yes  "
      ]
     },
     "execution_count": 21,
     "metadata": {},
     "output_type": "execute_result"
    }
   ],
   "source": [
    "df[df[\"Is Email\"] == \"yes\"]"
   ]
  },
  {
   "cell_type": "markdown",
   "id": "105b29e0",
   "metadata": {},
   "source": [
    " - We have confirmed there are emails in the above dataset.\n",
    " - Emails are not a value for \"Company Names\" column hence they should be discarded.\n",
    " - <font color=\"red\"><b>CAUTION:</font> we see that the values Shriram General@Garments, Shriram General@Gaements Shop are good values.\n",
    " - <font color=\"green\"><b>SOLUTION:</font> we will construct a more strict regexp for selecting emails"
   ]
  },
  {
   "cell_type": "markdown",
   "id": "f2a46195",
   "metadata": {},
   "source": [
    "### Strictly checking for emails with regexp"
   ]
  },
  {
   "cell_type": "code",
   "execution_count": 22,
   "id": "9f2cb1c7",
   "metadata": {},
   "outputs": [],
   "source": [
    "regex = r'\\b[A-Za-z0-9._%+-]+@[A-Za-z0-9.-]+\\.[A-Z|a-z]{2,}\\b'   #Copied regex pattern email from gitHub\n",
    "def checkIfEmail(email):\n",
    "    if(re.search(regex,email)):\n",
    "        return(\"yes\")   \n",
    "    else:\n",
    "        return(\"no\")"
   ]
  },
  {
   "cell_type": "code",
   "execution_count": 23,
   "id": "5e9e5a7c",
   "metadata": {
    "scrolled": true
   },
   "outputs": [],
   "source": [
    "df[\"Is Email\"] = df[\"Company Names\"].map(checkIfEmail)"
   ]
  },
  {
   "cell_type": "code",
   "execution_count": 24,
   "id": "5d12f8fc",
   "metadata": {
    "scrolled": false
   },
   "outputs": [
    {
     "data": {
      "text/html": [
       "<div>\n",
       "<style scoped>\n",
       "    .dataframe tbody tr th:only-of-type {\n",
       "        vertical-align: middle;\n",
       "    }\n",
       "\n",
       "    .dataframe tbody tr th {\n",
       "        vertical-align: top;\n",
       "    }\n",
       "\n",
       "    .dataframe thead th {\n",
       "        text-align: right;\n",
       "    }\n",
       "</style>\n",
       "<table border=\"1\" class=\"dataframe\">\n",
       "  <thead>\n",
       "    <tr style=\"text-align: right;\">\n",
       "      <th></th>\n",
       "      <th>companyname</th>\n",
       "      <th>Company Names</th>\n",
       "      <th>Digits present</th>\n",
       "      <th>Is Email</th>\n",
       "    </tr>\n",
       "  </thead>\n",
       "  <tbody>\n",
       "    <tr>\n",
       "      <th>1010</th>\n",
       "      <td>Moinkhaja009@Gmail.Com</td>\n",
       "      <td>Moinkhaja009@Gmail.Com</td>\n",
       "      <td>3</td>\n",
       "      <td>yes</td>\n",
       "    </tr>\n",
       "    <tr>\n",
       "      <th>9216</th>\n",
       "      <td>Sajid9912967380@Gmail.Com</td>\n",
       "      <td>Sajid9912967380@Gmail.Com</td>\n",
       "      <td>10</td>\n",
       "      <td>yes</td>\n",
       "    </tr>\n",
       "    <tr>\n",
       "      <th>10734</th>\n",
       "      <td>Srinivasbanala1980@Gmail.Com</td>\n",
       "      <td>Srinivasbanala1980@Gmail.Com</td>\n",
       "      <td>4</td>\n",
       "      <td>yes</td>\n",
       "    </tr>\n",
       "    <tr>\n",
       "      <th>11648</th>\n",
       "      <td>Syed123@Gma.Com</td>\n",
       "      <td>Syed123@Gma.Com</td>\n",
       "      <td>3</td>\n",
       "      <td>yes</td>\n",
       "    </tr>\n",
       "    <tr>\n",
       "      <th>46878</th>\n",
       "      <td>Telabixapathi9000@Gmail.Com</td>\n",
       "      <td>Telabixapathi9000@Gmail.Com</td>\n",
       "      <td>4</td>\n",
       "      <td>yes</td>\n",
       "    </tr>\n",
       "    <tr>\n",
       "      <th>57995</th>\n",
       "      <td>Naresh95425@Gmail.Com</td>\n",
       "      <td>Naresh95425@Gmail.Com</td>\n",
       "      <td>5</td>\n",
       "      <td>yes</td>\n",
       "    </tr>\n",
       "    <tr>\n",
       "      <th>58788</th>\n",
       "      <td>Vamshimandi@Gmail.Com</td>\n",
       "      <td>Vamshimandi@Gmail.Com</td>\n",
       "      <td>0</td>\n",
       "      <td>yes</td>\n",
       "    </tr>\n",
       "    <tr>\n",
       "      <th>59137</th>\n",
       "      <td>Naresh123@Gmail.Com</td>\n",
       "      <td>Naresh123@Gmail.Com</td>\n",
       "      <td>3</td>\n",
       "      <td>yes</td>\n",
       "    </tr>\n",
       "    <tr>\n",
       "      <th>59144</th>\n",
       "      <td>Madhavibandaru9666@Gmail.Com</td>\n",
       "      <td>Madhavibandaru9666@Gmail.Com</td>\n",
       "      <td>4</td>\n",
       "      <td>yes</td>\n",
       "    </tr>\n",
       "    <tr>\n",
       "      <th>59933</th>\n",
       "      <td>Kavalianjappa@Gmail.Com</td>\n",
       "      <td>Kavalianjappa@Gmail.Com</td>\n",
       "      <td>0</td>\n",
       "      <td>yes</td>\n",
       "    </tr>\n",
       "    <tr>\n",
       "      <th>64578</th>\n",
       "      <td>Kandulavara123@Gmail.Com</td>\n",
       "      <td>Kandulavara123@Gmail.Com</td>\n",
       "      <td>3</td>\n",
       "      <td>yes</td>\n",
       "    </tr>\n",
       "    <tr>\n",
       "      <th>70849</th>\n",
       "      <td>Psantosh.Kumar@Stfc.In</td>\n",
       "      <td>Psantosh.Kumar@Stfc.In</td>\n",
       "      <td>0</td>\n",
       "      <td>yes</td>\n",
       "    </tr>\n",
       "  </tbody>\n",
       "</table>\n",
       "</div>"
      ],
      "text/plain": [
       "                        companyname                 Company Names  \\\n",
       "1010         Moinkhaja009@Gmail.Com        Moinkhaja009@Gmail.Com   \n",
       "9216      Sajid9912967380@Gmail.Com     Sajid9912967380@Gmail.Com   \n",
       "10734  Srinivasbanala1980@Gmail.Com  Srinivasbanala1980@Gmail.Com   \n",
       "11648               Syed123@Gma.Com               Syed123@Gma.Com   \n",
       "46878   Telabixapathi9000@Gmail.Com   Telabixapathi9000@Gmail.Com   \n",
       "57995         Naresh95425@Gmail.Com         Naresh95425@Gmail.Com   \n",
       "58788         Vamshimandi@Gmail.Com         Vamshimandi@Gmail.Com   \n",
       "59137           Naresh123@Gmail.Com           Naresh123@Gmail.Com   \n",
       "59144  Madhavibandaru9666@Gmail.Com  Madhavibandaru9666@Gmail.Com   \n",
       "59933       Kavalianjappa@Gmail.Com       Kavalianjappa@Gmail.Com   \n",
       "64578      Kandulavara123@Gmail.Com      Kandulavara123@Gmail.Com   \n",
       "70849        Psantosh.Kumar@Stfc.In        Psantosh.Kumar@Stfc.In   \n",
       "\n",
       "       Digits present Is Email  \n",
       "1010                3      yes  \n",
       "9216               10      yes  \n",
       "10734               4      yes  \n",
       "11648               3      yes  \n",
       "46878               4      yes  \n",
       "57995               5      yes  \n",
       "58788               0      yes  \n",
       "59137               3      yes  \n",
       "59144               4      yes  \n",
       "59933               0      yes  \n",
       "64578               3      yes  \n",
       "70849               0      yes  "
      ]
     },
     "execution_count": 24,
     "metadata": {},
     "output_type": "execute_result"
    }
   ],
   "source": [
    "df[df[\"Is Email\"] == \"yes\"]"
   ]
  },
  {
   "cell_type": "markdown",
   "id": "184f7e47",
   "metadata": {},
   "source": [
    "- As expected there are many emails in the company names column"
   ]
  },
  {
   "cell_type": "markdown",
   "id": "3632f570",
   "metadata": {},
   "source": [
    "### Checking for \"#\" with regexp"
   ]
  },
  {
   "cell_type": "code",
   "execution_count": 25,
   "id": "7bd7d293",
   "metadata": {},
   "outputs": [],
   "source": [
    "regex = r'#'   #Check if it contains any #\n",
    "def checkIfPound(email):\n",
    "    if(re.search(regex,email)):\n",
    "        return(\"yes\")   \n",
    "    else:\n",
    "        return(\"no\")"
   ]
  },
  {
   "cell_type": "code",
   "execution_count": 26,
   "id": "197e5b69",
   "metadata": {
    "scrolled": true
   },
   "outputs": [],
   "source": [
    "df[\"Is Pound-#\"] = df[\"Company Names\"].map(checkIfPound)"
   ]
  },
  {
   "cell_type": "code",
   "execution_count": 27,
   "id": "73dbc825",
   "metadata": {
    "scrolled": true
   },
   "outputs": [
    {
     "data": {
      "text/html": [
       "<div>\n",
       "<style scoped>\n",
       "    .dataframe tbody tr th:only-of-type {\n",
       "        vertical-align: middle;\n",
       "    }\n",
       "\n",
       "    .dataframe tbody tr th {\n",
       "        vertical-align: top;\n",
       "    }\n",
       "\n",
       "    .dataframe thead th {\n",
       "        text-align: right;\n",
       "    }\n",
       "</style>\n",
       "<table border=\"1\" class=\"dataframe\">\n",
       "  <thead>\n",
       "    <tr style=\"text-align: right;\">\n",
       "      <th></th>\n",
       "      <th>companyname</th>\n",
       "      <th>Company Names</th>\n",
       "      <th>Digits present</th>\n",
       "      <th>Is Email</th>\n",
       "      <th>Is Pound-#</th>\n",
       "    </tr>\n",
       "  </thead>\n",
       "  <tbody>\n",
       "    <tr>\n",
       "      <th>1010</th>\n",
       "      <td>Moinkhaja009@Gmail.Com</td>\n",
       "      <td>Moinkhaja009@Gmail.Com</td>\n",
       "      <td>3</td>\n",
       "      <td>yes</td>\n",
       "      <td>no</td>\n",
       "    </tr>\n",
       "    <tr>\n",
       "      <th>9216</th>\n",
       "      <td>Sajid9912967380@Gmail.Com</td>\n",
       "      <td>Sajid9912967380@Gmail.Com</td>\n",
       "      <td>10</td>\n",
       "      <td>yes</td>\n",
       "      <td>no</td>\n",
       "    </tr>\n",
       "    <tr>\n",
       "      <th>10734</th>\n",
       "      <td>Srinivasbanala1980@Gmail.Com</td>\n",
       "      <td>Srinivasbanala1980@Gmail.Com</td>\n",
       "      <td>4</td>\n",
       "      <td>yes</td>\n",
       "      <td>no</td>\n",
       "    </tr>\n",
       "    <tr>\n",
       "      <th>11648</th>\n",
       "      <td>Syed123@Gma.Com</td>\n",
       "      <td>Syed123@Gma.Com</td>\n",
       "      <td>3</td>\n",
       "      <td>yes</td>\n",
       "      <td>no</td>\n",
       "    </tr>\n",
       "    <tr>\n",
       "      <th>46878</th>\n",
       "      <td>Telabixapathi9000@Gmail.Com</td>\n",
       "      <td>Telabixapathi9000@Gmail.Com</td>\n",
       "      <td>4</td>\n",
       "      <td>yes</td>\n",
       "      <td>no</td>\n",
       "    </tr>\n",
       "    <tr>\n",
       "      <th>57995</th>\n",
       "      <td>Naresh95425@Gmail.Com</td>\n",
       "      <td>Naresh95425@Gmail.Com</td>\n",
       "      <td>5</td>\n",
       "      <td>yes</td>\n",
       "      <td>no</td>\n",
       "    </tr>\n",
       "    <tr>\n",
       "      <th>58788</th>\n",
       "      <td>Vamshimandi@Gmail.Com</td>\n",
       "      <td>Vamshimandi@Gmail.Com</td>\n",
       "      <td>0</td>\n",
       "      <td>yes</td>\n",
       "      <td>no</td>\n",
       "    </tr>\n",
       "    <tr>\n",
       "      <th>59137</th>\n",
       "      <td>Naresh123@Gmail.Com</td>\n",
       "      <td>Naresh123@Gmail.Com</td>\n",
       "      <td>3</td>\n",
       "      <td>yes</td>\n",
       "      <td>no</td>\n",
       "    </tr>\n",
       "    <tr>\n",
       "      <th>59144</th>\n",
       "      <td>Madhavibandaru9666@Gmail.Com</td>\n",
       "      <td>Madhavibandaru9666@Gmail.Com</td>\n",
       "      <td>4</td>\n",
       "      <td>yes</td>\n",
       "      <td>no</td>\n",
       "    </tr>\n",
       "    <tr>\n",
       "      <th>59933</th>\n",
       "      <td>Kavalianjappa@Gmail.Com</td>\n",
       "      <td>Kavalianjappa@Gmail.Com</td>\n",
       "      <td>0</td>\n",
       "      <td>yes</td>\n",
       "      <td>no</td>\n",
       "    </tr>\n",
       "    <tr>\n",
       "      <th>64578</th>\n",
       "      <td>Kandulavara123@Gmail.Com</td>\n",
       "      <td>Kandulavara123@Gmail.Com</td>\n",
       "      <td>3</td>\n",
       "      <td>yes</td>\n",
       "      <td>no</td>\n",
       "    </tr>\n",
       "    <tr>\n",
       "      <th>70849</th>\n",
       "      <td>Psantosh.Kumar@Stfc.In</td>\n",
       "      <td>Psantosh.Kumar@Stfc.In</td>\n",
       "      <td>0</td>\n",
       "      <td>yes</td>\n",
       "      <td>no</td>\n",
       "    </tr>\n",
       "  </tbody>\n",
       "</table>\n",
       "</div>"
      ],
      "text/plain": [
       "                        companyname                 Company Names  \\\n",
       "1010         Moinkhaja009@Gmail.Com        Moinkhaja009@Gmail.Com   \n",
       "9216      Sajid9912967380@Gmail.Com     Sajid9912967380@Gmail.Com   \n",
       "10734  Srinivasbanala1980@Gmail.Com  Srinivasbanala1980@Gmail.Com   \n",
       "11648               Syed123@Gma.Com               Syed123@Gma.Com   \n",
       "46878   Telabixapathi9000@Gmail.Com   Telabixapathi9000@Gmail.Com   \n",
       "57995         Naresh95425@Gmail.Com         Naresh95425@Gmail.Com   \n",
       "58788         Vamshimandi@Gmail.Com         Vamshimandi@Gmail.Com   \n",
       "59137           Naresh123@Gmail.Com           Naresh123@Gmail.Com   \n",
       "59144  Madhavibandaru9666@Gmail.Com  Madhavibandaru9666@Gmail.Com   \n",
       "59933       Kavalianjappa@Gmail.Com       Kavalianjappa@Gmail.Com   \n",
       "64578      Kandulavara123@Gmail.Com      Kandulavara123@Gmail.Com   \n",
       "70849        Psantosh.Kumar@Stfc.In        Psantosh.Kumar@Stfc.In   \n",
       "\n",
       "       Digits present Is Email Is Pound-#  \n",
       "1010                3      yes         no  \n",
       "9216               10      yes         no  \n",
       "10734               4      yes         no  \n",
       "11648               3      yes         no  \n",
       "46878               4      yes         no  \n",
       "57995               5      yes         no  \n",
       "58788               0      yes         no  \n",
       "59137               3      yes         no  \n",
       "59144               4      yes         no  \n",
       "59933               0      yes         no  \n",
       "64578               3      yes         no  \n",
       "70849               0      yes         no  "
      ]
     },
     "execution_count": 27,
     "metadata": {},
     "output_type": "execute_result"
    }
   ],
   "source": [
    "df[df[\"Is Email\"] == \"yes\"]"
   ]
  },
  {
   "cell_type": "markdown",
   "id": "a41b252d",
   "metadata": {},
   "source": [
    "- We found one result containing the #(pound) symbol.\n",
    "- We have to format this value by removing pound symbol."
   ]
  },
  {
   "cell_type": "markdown",
   "id": "1eeb1cb6",
   "metadata": {},
   "source": [
    "### UDF that counts words in the string"
   ]
  },
  {
   "cell_type": "code",
   "execution_count": 28,
   "id": "773394f9",
   "metadata": {},
   "outputs": [],
   "source": [
    "def countWords(company_names):\n",
    "    count = 0\n",
    "    for x in company_names:\n",
    "        if x.isspace():\n",
    "            count = count + 1\n",
    "    return count+1"
   ]
  },
  {
   "cell_type": "markdown",
   "id": "4a9bf1ab",
   "metadata": {},
   "source": [
    "### Applying the UDF as per value in \"Company Names\""
   ]
  },
  {
   "cell_type": "code",
   "execution_count": 29,
   "id": "000115b0",
   "metadata": {},
   "outputs": [],
   "source": [
    "df[\"Words present\"] = df[\"Company Names\"].map(countWords)\n",
    "# df['new_col'] = df[\"Company Names\"].apply(count_digits_in_text)"
   ]
  },
  {
   "cell_type": "markdown",
   "id": "dfc8414b",
   "metadata": {},
   "source": [
    "### Sorting by \"Words present\" in descending order\n",
    "- This sorting clears fact that - \"Count of digits was found to be relatively large for wrong values\""
   ]
  },
  {
   "cell_type": "code",
   "execution_count": 30,
   "id": "ce60e44c",
   "metadata": {},
   "outputs": [
    {
     "data": {
      "text/html": [
       "<div>\n",
       "<style scoped>\n",
       "    .dataframe tbody tr th:only-of-type {\n",
       "        vertical-align: middle;\n",
       "    }\n",
       "\n",
       "    .dataframe tbody tr th {\n",
       "        vertical-align: top;\n",
       "    }\n",
       "\n",
       "    .dataframe thead th {\n",
       "        text-align: right;\n",
       "    }\n",
       "</style>\n",
       "<table border=\"1\" class=\"dataframe\">\n",
       "  <thead>\n",
       "    <tr style=\"text-align: right;\">\n",
       "      <th></th>\n",
       "      <th>companyname</th>\n",
       "      <th>Company Names</th>\n",
       "      <th>Digits present</th>\n",
       "      <th>Is Email</th>\n",
       "      <th>Is Pound-#</th>\n",
       "      <th>Words present</th>\n",
       "    </tr>\n",
       "  </thead>\n",
       "  <tbody>\n",
       "    <tr>\n",
       "      <th>24893</th>\n",
       "      <td>Sri Sai Garments Petticotes Lining Cloths Fall...</td>\n",
       "      <td>Sri Sai Garments Petticotes Lining Cloths Fall...</td>\n",
       "      <td>0</td>\n",
       "      <td>no</td>\n",
       "      <td>no</td>\n",
       "      <td>13</td>\n",
       "    </tr>\n",
       "    <tr>\n",
       "      <th>66914</th>\n",
       "      <td>M/S The Ntpc Landoustees Harijana And Balaheen...</td>\n",
       "      <td>M/S The Ntpc Landoustees Harijana And Balaheen...</td>\n",
       "      <td>0</td>\n",
       "      <td>no</td>\n",
       "      <td>no</td>\n",
       "      <td>13</td>\n",
       "    </tr>\n",
       "    <tr>\n",
       "      <th>51126</th>\n",
       "      <td>Laxmi Prasana Aqua Industries Telagana Club So...</td>\n",
       "      <td>Laxmi Prasana Aqua Industries Telagana Club So...</td>\n",
       "      <td>0</td>\n",
       "      <td>no</td>\n",
       "      <td>no</td>\n",
       "      <td>12</td>\n",
       "    </tr>\n",
       "    <tr>\n",
       "      <th>6570</th>\n",
       "      <td>Indoor Mahila Pattana Mutually Aided Cooperati...</td>\n",
       "      <td>Indoor Mahila Pattana Mutually Aided Cooperati...</td>\n",
       "      <td>0</td>\n",
       "      <td>no</td>\n",
       "      <td>no</td>\n",
       "      <td>12</td>\n",
       "    </tr>\n",
       "    <tr>\n",
       "      <th>20066</th>\n",
       "      <td>M/S Shiridi Sai Women Thrift And Credit Mutual...</td>\n",
       "      <td>M/S Shiridi Sai Women Thrift And Credit Mutual...</td>\n",
       "      <td>0</td>\n",
       "      <td>no</td>\n",
       "      <td>no</td>\n",
       "      <td>12</td>\n",
       "    </tr>\n",
       "  </tbody>\n",
       "</table>\n",
       "</div>"
      ],
      "text/plain": [
       "                                             companyname  \\\n",
       "24893  Sri Sai Garments Petticotes Lining Cloths Fall...   \n",
       "66914  M/S The Ntpc Landoustees Harijana And Balaheen...   \n",
       "51126  Laxmi Prasana Aqua Industries Telagana Club So...   \n",
       "6570   Indoor Mahila Pattana Mutually Aided Cooperati...   \n",
       "20066  M/S Shiridi Sai Women Thrift And Credit Mutual...   \n",
       "\n",
       "                                           Company Names  Digits present  \\\n",
       "24893  Sri Sai Garments Petticotes Lining Cloths Fall...               0   \n",
       "66914  M/S The Ntpc Landoustees Harijana And Balaheen...               0   \n",
       "51126  Laxmi Prasana Aqua Industries Telagana Club So...               0   \n",
       "6570   Indoor Mahila Pattana Mutually Aided Cooperati...               0   \n",
       "20066  M/S Shiridi Sai Women Thrift And Credit Mutual...               0   \n",
       "\n",
       "      Is Email Is Pound-#  Words present  \n",
       "24893       no         no             13  \n",
       "66914       no         no             13  \n",
       "51126       no         no             12  \n",
       "6570        no         no             12  \n",
       "20066       no         no             12  "
      ]
     },
     "execution_count": 30,
     "metadata": {},
     "output_type": "execute_result"
    }
   ],
   "source": [
    "df.sort_values(by=[\"Words present\"],ascending=False).head()"
   ]
  },
  {
   "cell_type": "code",
   "execution_count": 31,
   "id": "a4d0a5a9",
   "metadata": {},
   "outputs": [
    {
     "data": {
      "text/plain": [
       "count    78538.000000\n",
       "mean         2.689717\n",
       "std          1.181266\n",
       "min          1.000000\n",
       "25%          2.000000\n",
       "50%          2.000000\n",
       "75%          3.000000\n",
       "max         13.000000\n",
       "Name: Words present, dtype: float64"
      ]
     },
     "execution_count": 31,
     "metadata": {},
     "output_type": "execute_result"
    }
   ],
   "source": [
    "df[\"Words present\"].describe()"
   ]
  },
  {
   "cell_type": "code",
   "execution_count": 32,
   "id": "e15a02c5",
   "metadata": {},
   "outputs": [
    {
     "data": {
      "text/plain": [
       "<AxesSubplot:ylabel='Words present'>"
      ]
     },
     "execution_count": 32,
     "metadata": {},
     "output_type": "execute_result"
    },
    {
     "data": {
      "image/png": "[encoded data removed]",
      "text/plain": [
       "<Figure size 432x288 with 1 Axes>"
      ]
     },
     "metadata": {
      "needs_background": "light"
     },
     "output_type": "display_data"
    }
   ],
   "source": [
    "sns.boxplot(y=df[\"Words present\"])"
   ]
  },
  {
   "cell_type": "code",
   "execution_count": 33,
   "id": "417b0eef",
   "metadata": {},
   "outputs": [
    {
     "data": {
      "text/plain": [
       "2.0"
      ]
     },
     "execution_count": 33,
     "metadata": {},
     "output_type": "execute_result"
    }
   ],
   "source": [
    "df[\"Words present\"].median()"
   ]
  },
  {
   "cell_type": "code",
   "execution_count": 34,
   "id": "89cf6e29",
   "metadata": {
    "scrolled": true
   },
   "outputs": [
    {
     "data": {
      "text/html": [
       "<div>\n",
       "<style scoped>\n",
       "    .dataframe tbody tr th:only-of-type {\n",
       "        vertical-align: middle;\n",
       "    }\n",
       "\n",
       "    .dataframe tbody tr th {\n",
       "        vertical-align: top;\n",
       "    }\n",
       "\n",
       "    .dataframe thead th {\n",
       "        text-align: right;\n",
       "    }\n",
       "</style>\n",
       "<table border=\"1\" class=\"dataframe\">\n",
       "  <thead>\n",
       "    <tr style=\"text-align: right;\">\n",
       "      <th></th>\n",
       "      <th>Digits present</th>\n",
       "      <th>Words present</th>\n",
       "    </tr>\n",
       "  </thead>\n",
       "  <tbody>\n",
       "    <tr>\n",
       "      <th>count</th>\n",
       "      <td>78157.000000</td>\n",
       "      <td>78157.000000</td>\n",
       "    </tr>\n",
       "    <tr>\n",
       "      <th>mean</th>\n",
       "      <td>0.006551</td>\n",
       "      <td>2.660913</td>\n",
       "    </tr>\n",
       "    <tr>\n",
       "      <th>std</th>\n",
       "      <td>0.127707</td>\n",
       "      <td>1.107655</td>\n",
       "    </tr>\n",
       "    <tr>\n",
       "      <th>min</th>\n",
       "      <td>0.000000</td>\n",
       "      <td>1.000000</td>\n",
       "    </tr>\n",
       "    <tr>\n",
       "      <th>25%</th>\n",
       "      <td>0.000000</td>\n",
       "      <td>2.000000</td>\n",
       "    </tr>\n",
       "    <tr>\n",
       "      <th>50%</th>\n",
       "      <td>0.000000</td>\n",
       "      <td>2.000000</td>\n",
       "    </tr>\n",
       "    <tr>\n",
       "      <th>75%</th>\n",
       "      <td>0.000000</td>\n",
       "      <td>3.000000</td>\n",
       "    </tr>\n",
       "    <tr>\n",
       "      <th>max</th>\n",
       "      <td>10.000000</td>\n",
       "      <td>7.000000</td>\n",
       "    </tr>\n",
       "  </tbody>\n",
       "</table>\n",
       "</div>"
      ],
      "text/plain": [
       "       Digits present  Words present\n",
       "count    78157.000000   78157.000000\n",
       "mean         0.006551       2.660913\n",
       "std          0.127707       1.107655\n",
       "min          0.000000       1.000000\n",
       "25%          0.000000       2.000000\n",
       "50%          0.000000       2.000000\n",
       "75%          0.000000       3.000000\n",
       "max         10.000000       7.000000"
      ]
     },
     "execution_count": 34,
     "metadata": {},
     "output_type": "execute_result"
    }
   ],
   "source": [
    "df[df[\"Words present\"] <= 7].describe()"
   ]
  },
  {
   "cell_type": "markdown",
   "id": "7f7ce44e",
   "metadata": {},
   "source": [
    "### UDF that counts words in the string"
   ]
  },
  {
   "cell_type": "code",
   "execution_count": 35,
   "id": "67025090",
   "metadata": {},
   "outputs": [],
   "source": [
    "def countChars(company_names):\n",
    "    lenOfStr = len(company_names)\n",
    "    return lenOfStr"
   ]
  },
  {
   "cell_type": "markdown",
   "id": "b63f86ea",
   "metadata": {},
   "source": [
    "### Applying the UDF as per value in \"Company Names\""
   ]
  },
  {
   "cell_type": "code",
   "execution_count": 36,
   "id": "0a6bacd5",
   "metadata": {},
   "outputs": [],
   "source": [
    "df[\"Chars Present\"] = df[\"Company Names\"].map(countChars)"
   ]
  },
  {
   "cell_type": "code",
   "execution_count": 37,
   "id": "1d6ea6ce",
   "metadata": {},
   "outputs": [
    {
     "data": {
      "text/plain": [
       "<AxesSubplot:>"
      ]
     },
     "execution_count": 37,
     "metadata": {},
     "output_type": "execute_result"
    },
    {
     "data": {
      "image/png": "[encoded data removed]",
      "text/plain": [
       "<Figure size 1440x720 with 1 Axes>"
      ]
     },
     "metadata": {
      "needs_background": "light"
     },
     "output_type": "display_data"
    }
   ],
   "source": [
    "plt.figure(figsize=(20,10))\n",
    "df[\"Chars Present\"].value_counts().plot.bar()"
   ]
  },
  {
   "cell_type": "code",
   "execution_count": 38,
   "id": "aaa98448",
   "metadata": {},
   "outputs": [
    {
     "data": {
      "text/plain": [
       "count      82.000000\n",
       "mean      957.780488\n",
       "std      1648.724475\n",
       "min         1.000000\n",
       "25%        10.250000\n",
       "50%       133.000000\n",
       "75%       975.500000\n",
       "max      6097.000000\n",
       "Name: Chars Present, dtype: float64"
      ]
     },
     "execution_count": 38,
     "metadata": {},
     "output_type": "execute_result"
    }
   ],
   "source": [
    "df[\"Chars Present\"].value_counts().describe()"
   ]
  },
  {
   "cell_type": "code",
   "execution_count": 39,
   "id": "64e12daa",
   "metadata": {},
   "outputs": [],
   "source": [
    "regex = r'limited|ltd|private|pvt|enterprise|m/s|business|organi|servi'\n",
    "def checkIfOrganisation(pieceintext):\n",
    "    if(re.search(regex,pieceintext.lower()) or countDigits(pieceintext)>0):  #converting to lower case to include multiple cases\n",
    "        return(\"yes\")   \n",
    "    else:\n",
    "        return(\"no\")"
   ]
  },
  {
   "cell_type": "code",
   "execution_count": 40,
   "id": "593afb15",
   "metadata": {},
   "outputs": [],
   "source": [
    "df[\"Contains enterprise\"] = df[\"Company Names\"].map(checkIfOrganisation)"
   ]
  },
  {
   "cell_type": "markdown",
   "id": "532ba880",
   "metadata": {},
   "source": [
    "## Starting Drop ----------------"
   ]
  },
  {
   "cell_type": "markdown",
   "id": "f0278657",
   "metadata": {},
   "source": [
    "### Removing records with count of chars less than 5"
   ]
  },
  {
   "cell_type": "code",
   "execution_count": 41,
   "id": "a22b5eda",
   "metadata": {},
   "outputs": [],
   "source": [
    "df2 = df.drop(index=df[df[\"Chars Present\"] < 5].index)"
   ]
  },
  {
   "cell_type": "markdown",
   "id": "2832edfd",
   "metadata": {},
   "source": [
    "### Removing records with count of words more than 7"
   ]
  },
  {
   "cell_type": "code",
   "execution_count": 42,
   "id": "f6d0982e",
   "metadata": {},
   "outputs": [],
   "source": [
    "df2 = df.drop(index=df[df[\"Words present\"] >= 7].index)"
   ]
  },
  {
   "cell_type": "markdown",
   "id": "c780139f",
   "metadata": {},
   "source": [
    "### Removing null values"
   ]
  },
  {
   "cell_type": "code",
   "execution_count": 43,
   "id": "626f6f3d",
   "metadata": {},
   "outputs": [],
   "source": [
    "df2 = df2.drop(index=df2.loc[(df2['Company Names'].isna() == True) | (df2['Company Names'].isin(['N/a','NaN','NA','N/A','n/A','nan',\"\",\" \"]))].index)"
   ]
  },
  {
   "cell_type": "markdown",
   "id": "e3da48ea",
   "metadata": {},
   "source": [
    "### Removing records containing email"
   ]
  },
  {
   "cell_type": "code",
   "execution_count": 44,
   "id": "8ce5083c",
   "metadata": {},
   "outputs": [],
   "source": [
    "df2 = df2.drop(index=df2[df2[\"Is Email\"] == \"yes\"].index)"
   ]
  },
  {
   "cell_type": "markdown",
   "id": "93760f94",
   "metadata": {},
   "source": [
    "### Removing records with count of digits more than 4"
   ]
  },
  {
   "cell_type": "code",
   "execution_count": 45,
   "id": "8a3a9c79",
   "metadata": {},
   "outputs": [],
   "source": [
    "df2 = df2.drop(index=df2[df2[\"Digits present\"] > 4].index)"
   ]
  },
  {
   "cell_type": "markdown",
   "id": "fada4893",
   "metadata": {},
   "source": [
    "### Saving organisations in a seperate file without index"
   ]
  },
  {
   "cell_type": "code",
   "execution_count": 46,
   "id": "000f05d2",
   "metadata": {},
   "outputs": [],
   "source": [
    "df2['Company Names'][df2[\"Contains enterprise\"] == \"yes\"].to_excel(\"organisation_names.xlsx\",index=False)"
   ]
  },
  {
   "cell_type": "markdown",
   "id": "aa851e18",
   "metadata": {},
   "source": [
    "### Removing above Company names from original DF"
   ]
  },
  {
   "cell_type": "code",
   "execution_count": 47,
   "id": "6d77f20c",
   "metadata": {},
   "outputs": [],
   "source": [
    "df2 = df2.drop(index=df2[df2[\"Contains enterprise\"] == \"yes\"].index)"
   ]
  },
  {
   "cell_type": "markdown",
   "id": "8ae2937d",
   "metadata": {},
   "source": [
    "### Comparison of both data frames"
   ]
  },
  {
   "cell_type": "code",
   "execution_count": 48,
   "id": "b04fb778",
   "metadata": {},
   "outputs": [
    {
     "data": {
      "text/plain": [
       "companyname            78538\n",
       "Company Names          78538\n",
       "Digits present         78538\n",
       "Is Email               78538\n",
       "Is Pound-#             78538\n",
       "Words present          78538\n",
       "Chars Present          78538\n",
       "Contains enterprise    78538\n",
       "dtype: int64"
      ]
     },
     "execution_count": 48,
     "metadata": {},
     "output_type": "execute_result"
    }
   ],
   "source": [
    "df.count()"
   ]
  },
  {
   "cell_type": "code",
   "execution_count": 49,
   "id": "c388dfc3",
   "metadata": {},
   "outputs": [
    {
     "data": {
      "text/plain": [
       "companyname            66262\n",
       "Company Names          66262\n",
       "Digits present         66262\n",
       "Is Email               66262\n",
       "Is Pound-#             66262\n",
       "Words present          66262\n",
       "Chars Present          66262\n",
       "Contains enterprise    66262\n",
       "dtype: int64"
      ]
     },
     "execution_count": 49,
     "metadata": {},
     "output_type": "execute_result"
    }
   ],
   "source": [
    "df2.count()"
   ]
  },
  {
   "cell_type": "code",
   "execution_count": 50,
   "id": "905890f7",
   "metadata": {
    "scrolled": false
   },
   "outputs": [],
   "source": [
    "df2['Company Names'].to_excel(\"rest_names.xlsx\",index=False)"
   ]
  }
 ],
 "metadata": {
  "kernelspec": {
   "display_name": "Python 3 (ipykernel)",
   "language": "python",
   "name": "python3"
  },
  "language_info": {
   "codemirror_mode": {
    "name": "ipython",
    "version": 3
   },
   "file_extension": ".py",
   "mimetype": "text/x-python",
   "name": "python",
   "nbconvert_exporter": "python",
   "pygments_lexer": "ipython3",
   "version": "3.9.7"
  }
 },
 "nbformat": 4,
 "nbformat_minor": 5
}
